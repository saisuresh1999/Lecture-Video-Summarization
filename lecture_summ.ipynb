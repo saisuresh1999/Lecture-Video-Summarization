{
  "nbformat": 4,
  "nbformat_minor": 0,
  "metadata": {
    "colab": {
      "name": "lecture summ.ipynb",
      "provenance": [],
      "collapsed_sections": [],
      "include_colab_link": true
    },
    "kernelspec": {
      "name": "python3",
      "display_name": "Python 3"
    },
    "language_info": {
      "name": "python"
    },
    "widgets": {
      "application/vnd.jupyter.widget-state+json": {
        "8ac2a9fd8e3040369c925de4298074d3": {
          "model_module": "@jupyter-widgets/controls",
          "model_name": "HBoxModel",
          "state": {
            "_view_name": "HBoxView",
            "_dom_classes": [],
            "_model_name": "HBoxModel",
            "_view_module": "@jupyter-widgets/controls",
            "_model_module_version": "1.5.0",
            "_view_count": null,
            "_view_module_version": "1.5.0",
            "box_style": "",
            "layout": "IPY_MODEL_30ec41a08b2d411395f685df650c33a2",
            "_model_module": "@jupyter-widgets/controls",
            "children": [
              "IPY_MODEL_4f9e9fa8b7424bdab92da57b481a50c9",
              "IPY_MODEL_b55fb66293d745b5b537ca8f51fdad47"
            ]
          }
        },
        "30ec41a08b2d411395f685df650c33a2": {
          "model_module": "@jupyter-widgets/base",
          "model_name": "LayoutModel",
          "state": {
            "_view_name": "LayoutView",
            "grid_template_rows": null,
            "right": null,
            "justify_content": null,
            "_view_module": "@jupyter-widgets/base",
            "overflow": null,
            "_model_module_version": "1.2.0",
            "_view_count": null,
            "flex_flow": null,
            "width": null,
            "min_width": null,
            "border": null,
            "align_items": null,
            "bottom": null,
            "_model_module": "@jupyter-widgets/base",
            "top": null,
            "grid_column": null,
            "overflow_y": null,
            "overflow_x": null,
            "grid_auto_flow": null,
            "grid_area": null,
            "grid_template_columns": null,
            "flex": null,
            "_model_name": "LayoutModel",
            "justify_items": null,
            "grid_row": null,
            "max_height": null,
            "align_content": null,
            "visibility": null,
            "align_self": null,
            "height": null,
            "min_height": null,
            "padding": null,
            "grid_auto_rows": null,
            "grid_gap": null,
            "max_width": null,
            "order": null,
            "_view_module_version": "1.2.0",
            "grid_template_areas": null,
            "object_position": null,
            "object_fit": null,
            "grid_auto_columns": null,
            "margin": null,
            "display": null,
            "left": null
          }
        },
        "4f9e9fa8b7424bdab92da57b481a50c9": {
          "model_module": "@jupyter-widgets/controls",
          "model_name": "FloatProgressModel",
          "state": {
            "_view_name": "ProgressView",
            "style": "IPY_MODEL_3d5e89a625204b0cb61aed16f6ea9fb9",
            "_dom_classes": [],
            "description": "Downloading: 100%",
            "_model_name": "FloatProgressModel",
            "bar_style": "success",
            "max": 1344997306,
            "_view_module": "@jupyter-widgets/controls",
            "_model_module_version": "1.5.0",
            "value": 1344997306,
            "_view_count": null,
            "_view_module_version": "1.5.0",
            "orientation": "horizontal",
            "min": 0,
            "description_tooltip": null,
            "_model_module": "@jupyter-widgets/controls",
            "layout": "IPY_MODEL_4dcb90e3ef734a3e90f1c6a755cd29a9"
          }
        },
        "b55fb66293d745b5b537ca8f51fdad47": {
          "model_module": "@jupyter-widgets/controls",
          "model_name": "HTMLModel",
          "state": {
            "_view_name": "HTMLView",
            "style": "IPY_MODEL_f9e66b5e4bc04aac892eb679e1e0a4e0",
            "_dom_classes": [],
            "description": "",
            "_model_name": "HTMLModel",
            "placeholder": "​",
            "_view_module": "@jupyter-widgets/controls",
            "_model_module_version": "1.5.0",
            "value": " 1.34G/1.34G [00:25&lt;00:00, 51.9MB/s]",
            "_view_count": null,
            "_view_module_version": "1.5.0",
            "description_tooltip": null,
            "_model_module": "@jupyter-widgets/controls",
            "layout": "IPY_MODEL_e78153168cf74fa9968592058ba3b46c"
          }
        },
        "3d5e89a625204b0cb61aed16f6ea9fb9": {
          "model_module": "@jupyter-widgets/controls",
          "model_name": "ProgressStyleModel",
          "state": {
            "_view_name": "StyleView",
            "_model_name": "ProgressStyleModel",
            "description_width": "initial",
            "_view_module": "@jupyter-widgets/base",
            "_model_module_version": "1.5.0",
            "_view_count": null,
            "_view_module_version": "1.2.0",
            "bar_color": null,
            "_model_module": "@jupyter-widgets/controls"
          }
        },
        "4dcb90e3ef734a3e90f1c6a755cd29a9": {
          "model_module": "@jupyter-widgets/base",
          "model_name": "LayoutModel",
          "state": {
            "_view_name": "LayoutView",
            "grid_template_rows": null,
            "right": null,
            "justify_content": null,
            "_view_module": "@jupyter-widgets/base",
            "overflow": null,
            "_model_module_version": "1.2.0",
            "_view_count": null,
            "flex_flow": null,
            "width": null,
            "min_width": null,
            "border": null,
            "align_items": null,
            "bottom": null,
            "_model_module": "@jupyter-widgets/base",
            "top": null,
            "grid_column": null,
            "overflow_y": null,
            "overflow_x": null,
            "grid_auto_flow": null,
            "grid_area": null,
            "grid_template_columns": null,
            "flex": null,
            "_model_name": "LayoutModel",
            "justify_items": null,
            "grid_row": null,
            "max_height": null,
            "align_content": null,
            "visibility": null,
            "align_self": null,
            "height": null,
            "min_height": null,
            "padding": null,
            "grid_auto_rows": null,
            "grid_gap": null,
            "max_width": null,
            "order": null,
            "_view_module_version": "1.2.0",
            "grid_template_areas": null,
            "object_position": null,
            "object_fit": null,
            "grid_auto_columns": null,
            "margin": null,
            "display": null,
            "left": null
          }
        },
        "f9e66b5e4bc04aac892eb679e1e0a4e0": {
          "model_module": "@jupyter-widgets/controls",
          "model_name": "DescriptionStyleModel",
          "state": {
            "_view_name": "StyleView",
            "_model_name": "DescriptionStyleModel",
            "description_width": "",
            "_view_module": "@jupyter-widgets/base",
            "_model_module_version": "1.5.0",
            "_view_count": null,
            "_view_module_version": "1.2.0",
            "_model_module": "@jupyter-widgets/controls"
          }
        },
        "e78153168cf74fa9968592058ba3b46c": {
          "model_module": "@jupyter-widgets/base",
          "model_name": "LayoutModel",
          "state": {
            "_view_name": "LayoutView",
            "grid_template_rows": null,
            "right": null,
            "justify_content": null,
            "_view_module": "@jupyter-widgets/base",
            "overflow": null,
            "_model_module_version": "1.2.0",
            "_view_count": null,
            "flex_flow": null,
            "width": null,
            "min_width": null,
            "border": null,
            "align_items": null,
            "bottom": null,
            "_model_module": "@jupyter-widgets/base",
            "top": null,
            "grid_column": null,
            "overflow_y": null,
            "overflow_x": null,
            "grid_auto_flow": null,
            "grid_area": null,
            "grid_template_columns": null,
            "flex": null,
            "_model_name": "LayoutModel",
            "justify_items": null,
            "grid_row": null,
            "max_height": null,
            "align_content": null,
            "visibility": null,
            "align_self": null,
            "height": null,
            "min_height": null,
            "padding": null,
            "grid_auto_rows": null,
            "grid_gap": null,
            "max_width": null,
            "order": null,
            "_view_module_version": "1.2.0",
            "grid_template_areas": null,
            "object_position": null,
            "object_fit": null,
            "grid_auto_columns": null,
            "margin": null,
            "display": null,
            "left": null
          }
        },
        "8e3b7f7ea451413ab3f00423937c6990": {
          "model_module": "@jupyter-widgets/controls",
          "model_name": "HBoxModel",
          "state": {
            "_view_name": "HBoxView",
            "_dom_classes": [],
            "_model_name": "HBoxModel",
            "_view_module": "@jupyter-widgets/controls",
            "_model_module_version": "1.5.0",
            "_view_count": null,
            "_view_module_version": "1.5.0",
            "box_style": "",
            "layout": "IPY_MODEL_f400ac5a11664e58a49062248efd080b",
            "_model_module": "@jupyter-widgets/controls",
            "children": [
              "IPY_MODEL_554912caa29043dfa76ca5cb07b4b883",
              "IPY_MODEL_1da21441faf24372a62a958b6e155721"
            ]
          }
        },
        "f400ac5a11664e58a49062248efd080b": {
          "model_module": "@jupyter-widgets/base",
          "model_name": "LayoutModel",
          "state": {
            "_view_name": "LayoutView",
            "grid_template_rows": null,
            "right": null,
            "justify_content": null,
            "_view_module": "@jupyter-widgets/base",
            "overflow": null,
            "_model_module_version": "1.2.0",
            "_view_count": null,
            "flex_flow": null,
            "width": null,
            "min_width": null,
            "border": null,
            "align_items": null,
            "bottom": null,
            "_model_module": "@jupyter-widgets/base",
            "top": null,
            "grid_column": null,
            "overflow_y": null,
            "overflow_x": null,
            "grid_auto_flow": null,
            "grid_area": null,
            "grid_template_columns": null,
            "flex": null,
            "_model_name": "LayoutModel",
            "justify_items": null,
            "grid_row": null,
            "max_height": null,
            "align_content": null,
            "visibility": null,
            "align_self": null,
            "height": null,
            "min_height": null,
            "padding": null,
            "grid_auto_rows": null,
            "grid_gap": null,
            "max_width": null,
            "order": null,
            "_view_module_version": "1.2.0",
            "grid_template_areas": null,
            "object_position": null,
            "object_fit": null,
            "grid_auto_columns": null,
            "margin": null,
            "display": null,
            "left": null
          }
        },
        "554912caa29043dfa76ca5cb07b4b883": {
          "model_module": "@jupyter-widgets/controls",
          "model_name": "FloatProgressModel",
          "state": {
            "_view_name": "ProgressView",
            "style": "IPY_MODEL_b71dd21258b640c584fea3ba1466d310",
            "_dom_classes": [],
            "description": "Downloading: 100%",
            "_model_name": "FloatProgressModel",
            "bar_style": "success",
            "max": 231508,
            "_view_module": "@jupyter-widgets/controls",
            "_model_module_version": "1.5.0",
            "value": 231508,
            "_view_count": null,
            "_view_module_version": "1.5.0",
            "orientation": "horizontal",
            "min": 0,
            "description_tooltip": null,
            "_model_module": "@jupyter-widgets/controls",
            "layout": "IPY_MODEL_4b6e57ebd3024ace98e830ed0c9b75f4"
          }
        },
        "1da21441faf24372a62a958b6e155721": {
          "model_module": "@jupyter-widgets/controls",
          "model_name": "HTMLModel",
          "state": {
            "_view_name": "HTMLView",
            "style": "IPY_MODEL_8f69793b0e2743e6af1067887447bca7",
            "_dom_classes": [],
            "description": "",
            "_model_name": "HTMLModel",
            "placeholder": "​",
            "_view_module": "@jupyter-widgets/controls",
            "_model_module_version": "1.5.0",
            "value": " 232k/232k [00:00&lt;00:00, 1.69MB/s]",
            "_view_count": null,
            "_view_module_version": "1.5.0",
            "description_tooltip": null,
            "_model_module": "@jupyter-widgets/controls",
            "layout": "IPY_MODEL_f7045ce962d44114b6217ad5b2a2034e"
          }
        },
        "b71dd21258b640c584fea3ba1466d310": {
          "model_module": "@jupyter-widgets/controls",
          "model_name": "ProgressStyleModel",
          "state": {
            "_view_name": "StyleView",
            "_model_name": "ProgressStyleModel",
            "description_width": "initial",
            "_view_module": "@jupyter-widgets/base",
            "_model_module_version": "1.5.0",
            "_view_count": null,
            "_view_module_version": "1.2.0",
            "bar_color": null,
            "_model_module": "@jupyter-widgets/controls"
          }
        },
        "4b6e57ebd3024ace98e830ed0c9b75f4": {
          "model_module": "@jupyter-widgets/base",
          "model_name": "LayoutModel",
          "state": {
            "_view_name": "LayoutView",
            "grid_template_rows": null,
            "right": null,
            "justify_content": null,
            "_view_module": "@jupyter-widgets/base",
            "overflow": null,
            "_model_module_version": "1.2.0",
            "_view_count": null,
            "flex_flow": null,
            "width": null,
            "min_width": null,
            "border": null,
            "align_items": null,
            "bottom": null,
            "_model_module": "@jupyter-widgets/base",
            "top": null,
            "grid_column": null,
            "overflow_y": null,
            "overflow_x": null,
            "grid_auto_flow": null,
            "grid_area": null,
            "grid_template_columns": null,
            "flex": null,
            "_model_name": "LayoutModel",
            "justify_items": null,
            "grid_row": null,
            "max_height": null,
            "align_content": null,
            "visibility": null,
            "align_self": null,
            "height": null,
            "min_height": null,
            "padding": null,
            "grid_auto_rows": null,
            "grid_gap": null,
            "max_width": null,
            "order": null,
            "_view_module_version": "1.2.0",
            "grid_template_areas": null,
            "object_position": null,
            "object_fit": null,
            "grid_auto_columns": null,
            "margin": null,
            "display": null,
            "left": null
          }
        },
        "8f69793b0e2743e6af1067887447bca7": {
          "model_module": "@jupyter-widgets/controls",
          "model_name": "DescriptionStyleModel",
          "state": {
            "_view_name": "StyleView",
            "_model_name": "DescriptionStyleModel",
            "description_width": "",
            "_view_module": "@jupyter-widgets/base",
            "_model_module_version": "1.5.0",
            "_view_count": null,
            "_view_module_version": "1.2.0",
            "_model_module": "@jupyter-widgets/controls"
          }
        },
        "f7045ce962d44114b6217ad5b2a2034e": {
          "model_module": "@jupyter-widgets/base",
          "model_name": "LayoutModel",
          "state": {
            "_view_name": "LayoutView",
            "grid_template_rows": null,
            "right": null,
            "justify_content": null,
            "_view_module": "@jupyter-widgets/base",
            "overflow": null,
            "_model_module_version": "1.2.0",
            "_view_count": null,
            "flex_flow": null,
            "width": null,
            "min_width": null,
            "border": null,
            "align_items": null,
            "bottom": null,
            "_model_module": "@jupyter-widgets/base",
            "top": null,
            "grid_column": null,
            "overflow_y": null,
            "overflow_x": null,
            "grid_auto_flow": null,
            "grid_area": null,
            "grid_template_columns": null,
            "flex": null,
            "_model_name": "LayoutModel",
            "justify_items": null,
            "grid_row": null,
            "max_height": null,
            "align_content": null,
            "visibility": null,
            "align_self": null,
            "height": null,
            "min_height": null,
            "padding": null,
            "grid_auto_rows": null,
            "grid_gap": null,
            "max_width": null,
            "order": null,
            "_view_module_version": "1.2.0",
            "grid_template_areas": null,
            "object_position": null,
            "object_fit": null,
            "grid_auto_columns": null,
            "margin": null,
            "display": null,
            "left": null
          }
        },
        "03304c6131df4906a136f78e3f0d2c39": {
          "model_module": "@jupyter-widgets/controls",
          "model_name": "HBoxModel",
          "state": {
            "_view_name": "HBoxView",
            "_dom_classes": [],
            "_model_name": "HBoxModel",
            "_view_module": "@jupyter-widgets/controls",
            "_model_module_version": "1.5.0",
            "_view_count": null,
            "_view_module_version": "1.5.0",
            "box_style": "",
            "layout": "IPY_MODEL_33d8a00b6ec94ad29f2512c7ee367abb",
            "_model_module": "@jupyter-widgets/controls",
            "children": [
              "IPY_MODEL_7e40e2408e104bf58a695172f19079fe",
              "IPY_MODEL_cc4a4d4db334499d9302ae3fc6c7c692"
            ]
          }
        },
        "33d8a00b6ec94ad29f2512c7ee367abb": {
          "model_module": "@jupyter-widgets/base",
          "model_name": "LayoutModel",
          "state": {
            "_view_name": "LayoutView",
            "grid_template_rows": null,
            "right": null,
            "justify_content": null,
            "_view_module": "@jupyter-widgets/base",
            "overflow": null,
            "_model_module_version": "1.2.0",
            "_view_count": null,
            "flex_flow": null,
            "width": null,
            "min_width": null,
            "border": null,
            "align_items": null,
            "bottom": null,
            "_model_module": "@jupyter-widgets/base",
            "top": null,
            "grid_column": null,
            "overflow_y": null,
            "overflow_x": null,
            "grid_auto_flow": null,
            "grid_area": null,
            "grid_template_columns": null,
            "flex": null,
            "_model_name": "LayoutModel",
            "justify_items": null,
            "grid_row": null,
            "max_height": null,
            "align_content": null,
            "visibility": null,
            "align_self": null,
            "height": null,
            "min_height": null,
            "padding": null,
            "grid_auto_rows": null,
            "grid_gap": null,
            "max_width": null,
            "order": null,
            "_view_module_version": "1.2.0",
            "grid_template_areas": null,
            "object_position": null,
            "object_fit": null,
            "grid_auto_columns": null,
            "margin": null,
            "display": null,
            "left": null
          }
        },
        "7e40e2408e104bf58a695172f19079fe": {
          "model_module": "@jupyter-widgets/controls",
          "model_name": "FloatProgressModel",
          "state": {
            "_view_name": "ProgressView",
            "style": "IPY_MODEL_8c7ebac82fb440509871ce269c832e16",
            "_dom_classes": [],
            "description": "Downloading: 100%",
            "_model_name": "FloatProgressModel",
            "bar_style": "success",
            "max": 28,
            "_view_module": "@jupyter-widgets/controls",
            "_model_module_version": "1.5.0",
            "value": 28,
            "_view_count": null,
            "_view_module_version": "1.5.0",
            "orientation": "horizontal",
            "min": 0,
            "description_tooltip": null,
            "_model_module": "@jupyter-widgets/controls",
            "layout": "IPY_MODEL_d2aa5af560af489d94e1a1776809b36c"
          }
        },
        "cc4a4d4db334499d9302ae3fc6c7c692": {
          "model_module": "@jupyter-widgets/controls",
          "model_name": "HTMLModel",
          "state": {
            "_view_name": "HTMLView",
            "style": "IPY_MODEL_a82609b983b841ce85329a85c7cba62c",
            "_dom_classes": [],
            "description": "",
            "_model_name": "HTMLModel",
            "placeholder": "​",
            "_view_module": "@jupyter-widgets/controls",
            "_model_module_version": "1.5.0",
            "value": " 28.0/28.0 [00:00&lt;00:00, 104B/s]",
            "_view_count": null,
            "_view_module_version": "1.5.0",
            "description_tooltip": null,
            "_model_module": "@jupyter-widgets/controls",
            "layout": "IPY_MODEL_3c96c56141f1494b9ab0d373683a70b2"
          }
        },
        "8c7ebac82fb440509871ce269c832e16": {
          "model_module": "@jupyter-widgets/controls",
          "model_name": "ProgressStyleModel",
          "state": {
            "_view_name": "StyleView",
            "_model_name": "ProgressStyleModel",
            "description_width": "initial",
            "_view_module": "@jupyter-widgets/base",
            "_model_module_version": "1.5.0",
            "_view_count": null,
            "_view_module_version": "1.2.0",
            "bar_color": null,
            "_model_module": "@jupyter-widgets/controls"
          }
        },
        "d2aa5af560af489d94e1a1776809b36c": {
          "model_module": "@jupyter-widgets/base",
          "model_name": "LayoutModel",
          "state": {
            "_view_name": "LayoutView",
            "grid_template_rows": null,
            "right": null,
            "justify_content": null,
            "_view_module": "@jupyter-widgets/base",
            "overflow": null,
            "_model_module_version": "1.2.0",
            "_view_count": null,
            "flex_flow": null,
            "width": null,
            "min_width": null,
            "border": null,
            "align_items": null,
            "bottom": null,
            "_model_module": "@jupyter-widgets/base",
            "top": null,
            "grid_column": null,
            "overflow_y": null,
            "overflow_x": null,
            "grid_auto_flow": null,
            "grid_area": null,
            "grid_template_columns": null,
            "flex": null,
            "_model_name": "LayoutModel",
            "justify_items": null,
            "grid_row": null,
            "max_height": null,
            "align_content": null,
            "visibility": null,
            "align_self": null,
            "height": null,
            "min_height": null,
            "padding": null,
            "grid_auto_rows": null,
            "grid_gap": null,
            "max_width": null,
            "order": null,
            "_view_module_version": "1.2.0",
            "grid_template_areas": null,
            "object_position": null,
            "object_fit": null,
            "grid_auto_columns": null,
            "margin": null,
            "display": null,
            "left": null
          }
        },
        "a82609b983b841ce85329a85c7cba62c": {
          "model_module": "@jupyter-widgets/controls",
          "model_name": "DescriptionStyleModel",
          "state": {
            "_view_name": "StyleView",
            "_model_name": "DescriptionStyleModel",
            "description_width": "",
            "_view_module": "@jupyter-widgets/base",
            "_model_module_version": "1.5.0",
            "_view_count": null,
            "_view_module_version": "1.2.0",
            "_model_module": "@jupyter-widgets/controls"
          }
        },
        "3c96c56141f1494b9ab0d373683a70b2": {
          "model_module": "@jupyter-widgets/base",
          "model_name": "LayoutModel",
          "state": {
            "_view_name": "LayoutView",
            "grid_template_rows": null,
            "right": null,
            "justify_content": null,
            "_view_module": "@jupyter-widgets/base",
            "overflow": null,
            "_model_module_version": "1.2.0",
            "_view_count": null,
            "flex_flow": null,
            "width": null,
            "min_width": null,
            "border": null,
            "align_items": null,
            "bottom": null,
            "_model_module": "@jupyter-widgets/base",
            "top": null,
            "grid_column": null,
            "overflow_y": null,
            "overflow_x": null,
            "grid_auto_flow": null,
            "grid_area": null,
            "grid_template_columns": null,
            "flex": null,
            "_model_name": "LayoutModel",
            "justify_items": null,
            "grid_row": null,
            "max_height": null,
            "align_content": null,
            "visibility": null,
            "align_self": null,
            "height": null,
            "min_height": null,
            "padding": null,
            "grid_auto_rows": null,
            "grid_gap": null,
            "max_width": null,
            "order": null,
            "_view_module_version": "1.2.0",
            "grid_template_areas": null,
            "object_position": null,
            "object_fit": null,
            "grid_auto_columns": null,
            "margin": null,
            "display": null,
            "left": null
          }
        },
        "f0d1e0e5d9c4439bba025da0bc6b8bee": {
          "model_module": "@jupyter-widgets/controls",
          "model_name": "HBoxModel",
          "state": {
            "_view_name": "HBoxView",
            "_dom_classes": [],
            "_model_name": "HBoxModel",
            "_view_module": "@jupyter-widgets/controls",
            "_model_module_version": "1.5.0",
            "_view_count": null,
            "_view_module_version": "1.5.0",
            "box_style": "",
            "layout": "IPY_MODEL_91a347a260bd407796d21492f67c9938",
            "_model_module": "@jupyter-widgets/controls",
            "children": [
              "IPY_MODEL_06488c5a67b14e6e86900a8a961d33e8",
              "IPY_MODEL_079c55bcf25343f8825a3f40b729c8b5"
            ]
          }
        },
        "91a347a260bd407796d21492f67c9938": {
          "model_module": "@jupyter-widgets/base",
          "model_name": "LayoutModel",
          "state": {
            "_view_name": "LayoutView",
            "grid_template_rows": null,
            "right": null,
            "justify_content": null,
            "_view_module": "@jupyter-widgets/base",
            "overflow": null,
            "_model_module_version": "1.2.0",
            "_view_count": null,
            "flex_flow": null,
            "width": null,
            "min_width": null,
            "border": null,
            "align_items": null,
            "bottom": null,
            "_model_module": "@jupyter-widgets/base",
            "top": null,
            "grid_column": null,
            "overflow_y": null,
            "overflow_x": null,
            "grid_auto_flow": null,
            "grid_area": null,
            "grid_template_columns": null,
            "flex": null,
            "_model_name": "LayoutModel",
            "justify_items": null,
            "grid_row": null,
            "max_height": null,
            "align_content": null,
            "visibility": null,
            "align_self": null,
            "height": null,
            "min_height": null,
            "padding": null,
            "grid_auto_rows": null,
            "grid_gap": null,
            "max_width": null,
            "order": null,
            "_view_module_version": "1.2.0",
            "grid_template_areas": null,
            "object_position": null,
            "object_fit": null,
            "grid_auto_columns": null,
            "margin": null,
            "display": null,
            "left": null
          }
        },
        "06488c5a67b14e6e86900a8a961d33e8": {
          "model_module": "@jupyter-widgets/controls",
          "model_name": "FloatProgressModel",
          "state": {
            "_view_name": "ProgressView",
            "style": "IPY_MODEL_e0ee2dc00a9e4866a1a158e24b3d6d8f",
            "_dom_classes": [],
            "description": "Downloading: 100%",
            "_model_name": "FloatProgressModel",
            "bar_style": "success",
            "max": 466062,
            "_view_module": "@jupyter-widgets/controls",
            "_model_module_version": "1.5.0",
            "value": 466062,
            "_view_count": null,
            "_view_module_version": "1.5.0",
            "orientation": "horizontal",
            "min": 0,
            "description_tooltip": null,
            "_model_module": "@jupyter-widgets/controls",
            "layout": "IPY_MODEL_1cb57c20bd8145a483761cc356492827"
          }
        },
        "079c55bcf25343f8825a3f40b729c8b5": {
          "model_module": "@jupyter-widgets/controls",
          "model_name": "HTMLModel",
          "state": {
            "_view_name": "HTMLView",
            "style": "IPY_MODEL_fecb111c349e467e9dbdf90b750aa0f2",
            "_dom_classes": [],
            "description": "",
            "_model_name": "HTMLModel",
            "placeholder": "​",
            "_view_module": "@jupyter-widgets/controls",
            "_model_module_version": "1.5.0",
            "value": " 466k/466k [00:00&lt;00:00, 2.38MB/s]",
            "_view_count": null,
            "_view_module_version": "1.5.0",
            "description_tooltip": null,
            "_model_module": "@jupyter-widgets/controls",
            "layout": "IPY_MODEL_3c33933d18b64131ba03623e154752a2"
          }
        },
        "e0ee2dc00a9e4866a1a158e24b3d6d8f": {
          "model_module": "@jupyter-widgets/controls",
          "model_name": "ProgressStyleModel",
          "state": {
            "_view_name": "StyleView",
            "_model_name": "ProgressStyleModel",
            "description_width": "initial",
            "_view_module": "@jupyter-widgets/base",
            "_model_module_version": "1.5.0",
            "_view_count": null,
            "_view_module_version": "1.2.0",
            "bar_color": null,
            "_model_module": "@jupyter-widgets/controls"
          }
        },
        "1cb57c20bd8145a483761cc356492827": {
          "model_module": "@jupyter-widgets/base",
          "model_name": "LayoutModel",
          "state": {
            "_view_name": "LayoutView",
            "grid_template_rows": null,
            "right": null,
            "justify_content": null,
            "_view_module": "@jupyter-widgets/base",
            "overflow": null,
            "_model_module_version": "1.2.0",
            "_view_count": null,
            "flex_flow": null,
            "width": null,
            "min_width": null,
            "border": null,
            "align_items": null,
            "bottom": null,
            "_model_module": "@jupyter-widgets/base",
            "top": null,
            "grid_column": null,
            "overflow_y": null,
            "overflow_x": null,
            "grid_auto_flow": null,
            "grid_area": null,
            "grid_template_columns": null,
            "flex": null,
            "_model_name": "LayoutModel",
            "justify_items": null,
            "grid_row": null,
            "max_height": null,
            "align_content": null,
            "visibility": null,
            "align_self": null,
            "height": null,
            "min_height": null,
            "padding": null,
            "grid_auto_rows": null,
            "grid_gap": null,
            "max_width": null,
            "order": null,
            "_view_module_version": "1.2.0",
            "grid_template_areas": null,
            "object_position": null,
            "object_fit": null,
            "grid_auto_columns": null,
            "margin": null,
            "display": null,
            "left": null
          }
        },
        "fecb111c349e467e9dbdf90b750aa0f2": {
          "model_module": "@jupyter-widgets/controls",
          "model_name": "DescriptionStyleModel",
          "state": {
            "_view_name": "StyleView",
            "_model_name": "DescriptionStyleModel",
            "description_width": "",
            "_view_module": "@jupyter-widgets/base",
            "_model_module_version": "1.5.0",
            "_view_count": null,
            "_view_module_version": "1.2.0",
            "_model_module": "@jupyter-widgets/controls"
          }
        },
        "3c33933d18b64131ba03623e154752a2": {
          "model_module": "@jupyter-widgets/base",
          "model_name": "LayoutModel",
          "state": {
            "_view_name": "LayoutView",
            "grid_template_rows": null,
            "right": null,
            "justify_content": null,
            "_view_module": "@jupyter-widgets/base",
            "overflow": null,
            "_model_module_version": "1.2.0",
            "_view_count": null,
            "flex_flow": null,
            "width": null,
            "min_width": null,
            "border": null,
            "align_items": null,
            "bottom": null,
            "_model_module": "@jupyter-widgets/base",
            "top": null,
            "grid_column": null,
            "overflow_y": null,
            "overflow_x": null,
            "grid_auto_flow": null,
            "grid_area": null,
            "grid_template_columns": null,
            "flex": null,
            "_model_name": "LayoutModel",
            "justify_items": null,
            "grid_row": null,
            "max_height": null,
            "align_content": null,
            "visibility": null,
            "align_self": null,
            "height": null,
            "min_height": null,
            "padding": null,
            "grid_auto_rows": null,
            "grid_gap": null,
            "max_width": null,
            "order": null,
            "_view_module_version": "1.2.0",
            "grid_template_areas": null,
            "object_position": null,
            "object_fit": null,
            "grid_auto_columns": null,
            "margin": null,
            "display": null,
            "left": null
          }
        },
        "2c2b77ae8e7c4235a3cbfa03a523dac0": {
          "model_module": "@jupyter-widgets/controls",
          "model_name": "HBoxModel",
          "state": {
            "_view_name": "HBoxView",
            "_dom_classes": [],
            "_model_name": "HBoxModel",
            "_view_module": "@jupyter-widgets/controls",
            "_model_module_version": "1.5.0",
            "_view_count": null,
            "_view_module_version": "1.5.0",
            "box_style": "",
            "layout": "IPY_MODEL_11f12496ef5d4e01be73fee9796899dd",
            "_model_module": "@jupyter-widgets/controls",
            "children": [
              "IPY_MODEL_7e474735de4d42b284297ae01f77ba88",
              "IPY_MODEL_e31ca2d829de4a1281559ccb5c1931f5"
            ]
          }
        },
        "11f12496ef5d4e01be73fee9796899dd": {
          "model_module": "@jupyter-widgets/base",
          "model_name": "LayoutModel",
          "state": {
            "_view_name": "LayoutView",
            "grid_template_rows": null,
            "right": null,
            "justify_content": null,
            "_view_module": "@jupyter-widgets/base",
            "overflow": null,
            "_model_module_version": "1.2.0",
            "_view_count": null,
            "flex_flow": null,
            "width": null,
            "min_width": null,
            "border": null,
            "align_items": null,
            "bottom": null,
            "_model_module": "@jupyter-widgets/base",
            "top": null,
            "grid_column": null,
            "overflow_y": null,
            "overflow_x": null,
            "grid_auto_flow": null,
            "grid_area": null,
            "grid_template_columns": null,
            "flex": null,
            "_model_name": "LayoutModel",
            "justify_items": null,
            "grid_row": null,
            "max_height": null,
            "align_content": null,
            "visibility": null,
            "align_self": null,
            "height": null,
            "min_height": null,
            "padding": null,
            "grid_auto_rows": null,
            "grid_gap": null,
            "max_width": null,
            "order": null,
            "_view_module_version": "1.2.0",
            "grid_template_areas": null,
            "object_position": null,
            "object_fit": null,
            "grid_auto_columns": null,
            "margin": null,
            "display": null,
            "left": null
          }
        },
        "7e474735de4d42b284297ae01f77ba88": {
          "model_module": "@jupyter-widgets/controls",
          "model_name": "FloatProgressModel",
          "state": {
            "_view_name": "ProgressView",
            "style": "IPY_MODEL_5961f38011b14c00a341724f1f3bddd4",
            "_dom_classes": [],
            "description": "100%",
            "_model_name": "FloatProgressModel",
            "bar_style": "success",
            "max": 244733649,
            "_view_module": "@jupyter-widgets/controls",
            "_model_module_version": "1.5.0",
            "value": 244733649,
            "_view_count": null,
            "_view_module_version": "1.5.0",
            "orientation": "horizontal",
            "min": 0,
            "description_tooltip": null,
            "_model_module": "@jupyter-widgets/controls",
            "layout": "IPY_MODEL_add05f10f4ef420bb98ca66a82bca8c5"
          }
        },
        "e31ca2d829de4a1281559ccb5c1931f5": {
          "model_module": "@jupyter-widgets/controls",
          "model_name": "HTMLModel",
          "state": {
            "_view_name": "HTMLView",
            "style": "IPY_MODEL_84804b63514348ca8ce51d9ae1cc1a8e",
            "_dom_classes": [],
            "description": "",
            "_model_name": "HTMLModel",
            "placeholder": "​",
            "_view_module": "@jupyter-widgets/controls",
            "_model_module_version": "1.5.0",
            "value": " 245M/245M [00:15&lt;00:00, 15.9MB/s]",
            "_view_count": null,
            "_view_module_version": "1.5.0",
            "description_tooltip": null,
            "_model_module": "@jupyter-widgets/controls",
            "layout": "IPY_MODEL_a6106adf4ad141899e8126bdaac2a9e9"
          }
        },
        "5961f38011b14c00a341724f1f3bddd4": {
          "model_module": "@jupyter-widgets/controls",
          "model_name": "ProgressStyleModel",
          "state": {
            "_view_name": "StyleView",
            "_model_name": "ProgressStyleModel",
            "description_width": "initial",
            "_view_module": "@jupyter-widgets/base",
            "_model_module_version": "1.5.0",
            "_view_count": null,
            "_view_module_version": "1.2.0",
            "bar_color": null,
            "_model_module": "@jupyter-widgets/controls"
          }
        },
        "add05f10f4ef420bb98ca66a82bca8c5": {
          "model_module": "@jupyter-widgets/base",
          "model_name": "LayoutModel",
          "state": {
            "_view_name": "LayoutView",
            "grid_template_rows": null,
            "right": null,
            "justify_content": null,
            "_view_module": "@jupyter-widgets/base",
            "overflow": null,
            "_model_module_version": "1.2.0",
            "_view_count": null,
            "flex_flow": null,
            "width": null,
            "min_width": null,
            "border": null,
            "align_items": null,
            "bottom": null,
            "_model_module": "@jupyter-widgets/base",
            "top": null,
            "grid_column": null,
            "overflow_y": null,
            "overflow_x": null,
            "grid_auto_flow": null,
            "grid_area": null,
            "grid_template_columns": null,
            "flex": null,
            "_model_name": "LayoutModel",
            "justify_items": null,
            "grid_row": null,
            "max_height": null,
            "align_content": null,
            "visibility": null,
            "align_self": null,
            "height": null,
            "min_height": null,
            "padding": null,
            "grid_auto_rows": null,
            "grid_gap": null,
            "max_width": null,
            "order": null,
            "_view_module_version": "1.2.0",
            "grid_template_areas": null,
            "object_position": null,
            "object_fit": null,
            "grid_auto_columns": null,
            "margin": null,
            "display": null,
            "left": null
          }
        },
        "84804b63514348ca8ce51d9ae1cc1a8e": {
          "model_module": "@jupyter-widgets/controls",
          "model_name": "DescriptionStyleModel",
          "state": {
            "_view_name": "StyleView",
            "_model_name": "DescriptionStyleModel",
            "description_width": "",
            "_view_module": "@jupyter-widgets/base",
            "_model_module_version": "1.5.0",
            "_view_count": null,
            "_view_module_version": "1.2.0",
            "_model_module": "@jupyter-widgets/controls"
          }
        },
        "a6106adf4ad141899e8126bdaac2a9e9": {
          "model_module": "@jupyter-widgets/base",
          "model_name": "LayoutModel",
          "state": {
            "_view_name": "LayoutView",
            "grid_template_rows": null,
            "right": null,
            "justify_content": null,
            "_view_module": "@jupyter-widgets/base",
            "overflow": null,
            "_model_module_version": "1.2.0",
            "_view_count": null,
            "flex_flow": null,
            "width": null,
            "min_width": null,
            "border": null,
            "align_items": null,
            "bottom": null,
            "_model_module": "@jupyter-widgets/base",
            "top": null,
            "grid_column": null,
            "overflow_y": null,
            "overflow_x": null,
            "grid_auto_flow": null,
            "grid_area": null,
            "grid_template_columns": null,
            "flex": null,
            "_model_name": "LayoutModel",
            "justify_items": null,
            "grid_row": null,
            "max_height": null,
            "align_content": null,
            "visibility": null,
            "align_self": null,
            "height": null,
            "min_height": null,
            "padding": null,
            "grid_auto_rows": null,
            "grid_gap": null,
            "max_width": null,
            "order": null,
            "_view_module_version": "1.2.0",
            "grid_template_areas": null,
            "object_position": null,
            "object_fit": null,
            "grid_auto_columns": null,
            "margin": null,
            "display": null,
            "left": null
          }
        }
      }
    },
    "accelerator": "GPU"
  },
  "cells": [
    {
      "cell_type": "markdown",
      "metadata": {
        "id": "view-in-github",
        "colab_type": "text"
      },
      "source": [
        "<a href=\"https://colab.research.google.com/github/saisuresh1999/Lecture-Video-Summarization/blob/main/lecture_summ.ipynb\" target=\"_parent\"><img src=\"https://colab.research.google.com/assets/colab-badge.svg\" alt=\"Open In Colab\"/></a>"
      ]
    },
    {
      "cell_type": "code",
      "metadata": {
        "id": "RGbvaGgc_M_U",
        "colab": {
          "base_uri": "https://localhost:8080/"
        },
        "outputId": "b52d70e5-32fd-4d79-a56b-45f8143aad9c"
      },
      "source": [
        "!pip install newspaper3k "
      ],
      "execution_count": null,
      "outputs": [
        {
          "output_type": "stream",
          "text": [
            "Requirement already satisfied: newspaper3k in /usr/local/lib/python3.7/dist-packages (0.2.8)\n",
            "Requirement already satisfied: feedfinder2>=0.0.4 in /usr/local/lib/python3.7/dist-packages (from newspaper3k) (0.0.4)\n",
            "Requirement already satisfied: jieba3k>=0.35.1 in /usr/local/lib/python3.7/dist-packages (from newspaper3k) (0.35.1)\n",
            "Requirement already satisfied: python-dateutil>=2.5.3 in /usr/local/lib/python3.7/dist-packages (from newspaper3k) (2.8.1)\n",
            "Requirement already satisfied: feedparser>=5.2.1 in /usr/local/lib/python3.7/dist-packages (from newspaper3k) (6.0.2)\n",
            "Requirement already satisfied: cssselect>=0.9.2 in /usr/local/lib/python3.7/dist-packages (from newspaper3k) (1.1.0)\n",
            "Requirement already satisfied: PyYAML>=3.11 in /usr/local/lib/python3.7/dist-packages (from newspaper3k) (3.13)\n",
            "Requirement already satisfied: nltk>=3.2.1 in /usr/local/lib/python3.7/dist-packages (from newspaper3k) (3.5)\n",
            "Requirement already satisfied: beautifulsoup4>=4.4.1 in /usr/local/lib/python3.7/dist-packages (from newspaper3k) (4.6.3)\n",
            "Requirement already satisfied: lxml>=3.6.0 in /usr/local/lib/python3.7/dist-packages (from newspaper3k) (4.2.6)\n",
            "Requirement already satisfied: tldextract>=2.0.1 in /usr/local/lib/python3.7/dist-packages (from newspaper3k) (3.1.0)\n",
            "Requirement already satisfied: requests>=2.10.0 in /usr/local/lib/python3.7/dist-packages (from newspaper3k) (2.23.0)\n",
            "Requirement already satisfied: tinysegmenter==0.3 in /usr/local/lib/python3.7/dist-packages (from newspaper3k) (0.3)\n",
            "Requirement already satisfied: Pillow>=3.3.0 in /usr/local/lib/python3.7/dist-packages (from newspaper3k) (7.0.0)\n",
            "Requirement already satisfied: six in /usr/local/lib/python3.7/dist-packages (from feedfinder2>=0.0.4->newspaper3k) (1.15.0)\n",
            "Requirement already satisfied: sgmllib3k in /usr/local/lib/python3.7/dist-packages (from feedparser>=5.2.1->newspaper3k) (1.0.0)\n",
            "Requirement already satisfied: regex in /usr/local/lib/python3.7/dist-packages (from nltk>=3.2.1->newspaper3k) (2019.12.20)\n",
            "Requirement already satisfied: tqdm in /usr/local/lib/python3.7/dist-packages (from nltk>=3.2.1->newspaper3k) (4.41.1)\n",
            "Requirement already satisfied: click in /usr/local/lib/python3.7/dist-packages (from nltk>=3.2.1->newspaper3k) (7.1.2)\n",
            "Requirement already satisfied: joblib in /usr/local/lib/python3.7/dist-packages (from nltk>=3.2.1->newspaper3k) (1.0.1)\n",
            "Requirement already satisfied: filelock>=3.0.8 in /usr/local/lib/python3.7/dist-packages (from tldextract>=2.0.1->newspaper3k) (3.0.12)\n",
            "Requirement already satisfied: idna in /usr/local/lib/python3.7/dist-packages (from tldextract>=2.0.1->newspaper3k) (2.10)\n",
            "Requirement already satisfied: requests-file>=1.4 in /usr/local/lib/python3.7/dist-packages (from tldextract>=2.0.1->newspaper3k) (1.5.1)\n",
            "Requirement already satisfied: urllib3!=1.25.0,!=1.25.1,<1.26,>=1.21.1 in /usr/local/lib/python3.7/dist-packages (from requests>=2.10.0->newspaper3k) (1.24.3)\n",
            "Requirement already satisfied: chardet<4,>=3.0.2 in /usr/local/lib/python3.7/dist-packages (from requests>=2.10.0->newspaper3k) (3.0.4)\n",
            "Requirement already satisfied: certifi>=2017.4.17 in /usr/local/lib/python3.7/dist-packages (from requests>=2.10.0->newspaper3k) (2020.12.5)\n"
          ],
          "name": "stdout"
        }
      ]
    },
    {
      "cell_type": "code",
      "metadata": {
        "id": "jGmmNJiOCmec",
        "colab": {
          "base_uri": "https://localhost:8080/"
        },
        "outputId": "2795aa7a-c342-4e9d-a07d-d2ccfcab256c"
      },
      "source": [
        "!pip install bert-extractive-summarizer"
      ],
      "execution_count": null,
      "outputs": [
        {
          "output_type": "stream",
          "text": [
            "Requirement already satisfied: bert-extractive-summarizer in /usr/local/lib/python3.7/dist-packages (0.7.1)\n",
            "Requirement already satisfied: transformers in /usr/local/lib/python3.7/dist-packages (from bert-extractive-summarizer) (4.4.2)\n",
            "Requirement already satisfied: spacy in /usr/local/lib/python3.7/dist-packages (from bert-extractive-summarizer) (2.2.4)\n",
            "Requirement already satisfied: scikit-learn in /usr/local/lib/python3.7/dist-packages (from bert-extractive-summarizer) (0.22.2.post1)\n",
            "Requirement already satisfied: numpy>=1.17 in /usr/local/lib/python3.7/dist-packages (from transformers->bert-extractive-summarizer) (1.19.5)\n",
            "Requirement already satisfied: tqdm>=4.27 in /usr/local/lib/python3.7/dist-packages (from transformers->bert-extractive-summarizer) (4.41.1)\n",
            "Requirement already satisfied: regex!=2019.12.17 in /usr/local/lib/python3.7/dist-packages (from transformers->bert-extractive-summarizer) (2019.12.20)\n",
            "Requirement already satisfied: packaging in /usr/local/lib/python3.7/dist-packages (from transformers->bert-extractive-summarizer) (20.9)\n",
            "Requirement already satisfied: sacremoses in /usr/local/lib/python3.7/dist-packages (from transformers->bert-extractive-summarizer) (0.0.43)\n",
            "Requirement already satisfied: tokenizers<0.11,>=0.10.1 in /usr/local/lib/python3.7/dist-packages (from transformers->bert-extractive-summarizer) (0.10.1)\n",
            "Requirement already satisfied: filelock in /usr/local/lib/python3.7/dist-packages (from transformers->bert-extractive-summarizer) (3.0.12)\n",
            "Requirement already satisfied: importlib-metadata; python_version < \"3.8\" in /usr/local/lib/python3.7/dist-packages (from transformers->bert-extractive-summarizer) (3.7.2)\n",
            "Requirement already satisfied: requests in /usr/local/lib/python3.7/dist-packages (from transformers->bert-extractive-summarizer) (2.23.0)\n",
            "Requirement already satisfied: blis<0.5.0,>=0.4.0 in /usr/local/lib/python3.7/dist-packages (from spacy->bert-extractive-summarizer) (0.4.1)\n",
            "Requirement already satisfied: thinc==7.4.0 in /usr/local/lib/python3.7/dist-packages (from spacy->bert-extractive-summarizer) (7.4.0)\n",
            "Requirement already satisfied: cymem<2.1.0,>=2.0.2 in /usr/local/lib/python3.7/dist-packages (from spacy->bert-extractive-summarizer) (2.0.5)\n",
            "Requirement already satisfied: plac<1.2.0,>=0.9.6 in /usr/local/lib/python3.7/dist-packages (from spacy->bert-extractive-summarizer) (1.1.3)\n",
            "Requirement already satisfied: wasabi<1.1.0,>=0.4.0 in /usr/local/lib/python3.7/dist-packages (from spacy->bert-extractive-summarizer) (0.8.2)\n",
            "Requirement already satisfied: preshed<3.1.0,>=3.0.2 in /usr/local/lib/python3.7/dist-packages (from spacy->bert-extractive-summarizer) (3.0.5)\n",
            "Requirement already satisfied: srsly<1.1.0,>=1.0.2 in /usr/local/lib/python3.7/dist-packages (from spacy->bert-extractive-summarizer) (1.0.5)\n",
            "Requirement already satisfied: murmurhash<1.1.0,>=0.28.0 in /usr/local/lib/python3.7/dist-packages (from spacy->bert-extractive-summarizer) (1.0.5)\n",
            "Requirement already satisfied: catalogue<1.1.0,>=0.0.7 in /usr/local/lib/python3.7/dist-packages (from spacy->bert-extractive-summarizer) (1.0.0)\n",
            "Requirement already satisfied: setuptools in /usr/local/lib/python3.7/dist-packages (from spacy->bert-extractive-summarizer) (54.1.2)\n",
            "Requirement already satisfied: scipy>=0.17.0 in /usr/local/lib/python3.7/dist-packages (from scikit-learn->bert-extractive-summarizer) (1.4.1)\n",
            "Requirement already satisfied: joblib>=0.11 in /usr/local/lib/python3.7/dist-packages (from scikit-learn->bert-extractive-summarizer) (1.0.1)\n",
            "Requirement already satisfied: pyparsing>=2.0.2 in /usr/local/lib/python3.7/dist-packages (from packaging->transformers->bert-extractive-summarizer) (2.4.7)\n",
            "Requirement already satisfied: click in /usr/local/lib/python3.7/dist-packages (from sacremoses->transformers->bert-extractive-summarizer) (7.1.2)\n",
            "Requirement already satisfied: six in /usr/local/lib/python3.7/dist-packages (from sacremoses->transformers->bert-extractive-summarizer) (1.15.0)\n",
            "Requirement already satisfied: typing-extensions>=3.6.4; python_version < \"3.8\" in /usr/local/lib/python3.7/dist-packages (from importlib-metadata; python_version < \"3.8\"->transformers->bert-extractive-summarizer) (3.7.4.3)\n",
            "Requirement already satisfied: zipp>=0.5 in /usr/local/lib/python3.7/dist-packages (from importlib-metadata; python_version < \"3.8\"->transformers->bert-extractive-summarizer) (3.4.1)\n",
            "Requirement already satisfied: urllib3!=1.25.0,!=1.25.1,<1.26,>=1.21.1 in /usr/local/lib/python3.7/dist-packages (from requests->transformers->bert-extractive-summarizer) (1.24.3)\n",
            "Requirement already satisfied: certifi>=2017.4.17 in /usr/local/lib/python3.7/dist-packages (from requests->transformers->bert-extractive-summarizer) (2020.12.5)\n",
            "Requirement already satisfied: chardet<4,>=3.0.2 in /usr/local/lib/python3.7/dist-packages (from requests->transformers->bert-extractive-summarizer) (3.0.4)\n",
            "Requirement already satisfied: idna<3,>=2.5 in /usr/local/lib/python3.7/dist-packages (from requests->transformers->bert-extractive-summarizer) (2.10)\n"
          ],
          "name": "stdout"
        }
      ]
    },
    {
      "cell_type": "code",
      "metadata": {
        "id": "voCcrkPhCvQX",
        "colab": {
          "base_uri": "https://localhost:8080/",
          "height": 54
        },
        "outputId": "ddee8f12-d3b8-452e-ba7a-45a10e91ff22"
      },
      "source": [
        "\"\"\"from newspaper import fulltext\n",
        "import requests\n",
        "article_url=\"https://analyticsindiamag.com/is-common-sense-common-in-nlp-models/ \"\n",
        "article = fulltext(requests.get(article_url).text)\n",
        "print(article)\"\"\""
      ],
      "execution_count": null,
      "outputs": [
        {
          "output_type": "execute_result",
          "data": {
            "application/vnd.google.colaboratory.intrinsic+json": {
              "type": "string"
            },
            "text/plain": [
              "'from newspaper import fulltext\\nimport requests\\narticle_url=\"https://analyticsindiamag.com/is-common-sense-common-in-nlp-models/ \"\\narticle = fulltext(requests.get(article_url).text)\\nprint(article)'"
            ]
          },
          "metadata": {
            "tags": []
          },
          "execution_count": 17
        }
      ]
    },
    {
      "cell_type": "code",
      "metadata": {
        "colab": {
          "base_uri": "https://localhost:8080/",
          "height": 54
        },
        "id": "qC0bU3zEC2Hf",
        "outputId": "e8016c37-6ab6-492f-8663-7e5576a69886"
      },
      "source": [
        "\"\"\"from summarizer import Summarizer\n",
        "model = Summarizer()\n",
        "result = model(article, min_length=30,max_length=300)\n",
        "summary = \"\".join(result)\n",
        "print(summary)\"\"\""
      ],
      "execution_count": null,
      "outputs": [
        {
          "output_type": "execute_result",
          "data": {
            "application/vnd.google.colaboratory.intrinsic+json": {
              "type": "string"
            },
            "text/plain": [
              "'from summarizer import Summarizer\\nmodel = Summarizer()\\nresult = model(article, min_length=30,max_length=300)\\nsummary = \"\".join(result)\\nprint(summary)'"
            ]
          },
          "metadata": {
            "tags": []
          },
          "execution_count": 18
        }
      ]
    },
    {
      "cell_type": "code",
      "metadata": {
        "colab": {
          "base_uri": "https://localhost:8080/"
        },
        "id": "nWIYxd3pC5rw",
        "outputId": "a4e223e0-4e7d-4fc6-ec19-981227b87e74"
      },
      "source": [
        "!pip install youtube_transcript_api\n"
      ],
      "execution_count": null,
      "outputs": [
        {
          "output_type": "stream",
          "text": [
            "Requirement already satisfied: youtube_transcript_api in /usr/local/lib/python3.7/dist-packages (0.4.0)\n",
            "Requirement already satisfied: requests in /usr/local/lib/python3.7/dist-packages (from youtube_transcript_api) (2.23.0)\n",
            "Requirement already satisfied: idna<3,>=2.5 in /usr/local/lib/python3.7/dist-packages (from requests->youtube_transcript_api) (2.10)\n",
            "Requirement already satisfied: chardet<4,>=3.0.2 in /usr/local/lib/python3.7/dist-packages (from requests->youtube_transcript_api) (3.0.4)\n",
            "Requirement already satisfied: certifi>=2017.4.17 in /usr/local/lib/python3.7/dist-packages (from requests->youtube_transcript_api) (2020.12.5)\n",
            "Requirement already satisfied: urllib3!=1.25.0,!=1.25.1,<1.26,>=1.21.1 in /usr/local/lib/python3.7/dist-packages (from requests->youtube_transcript_api) (1.24.3)\n"
          ],
          "name": "stdout"
        }
      ]
    },
    {
      "cell_type": "code",
      "metadata": {
        "id": "8ZfKAnKKDv2P",
        "colab": {
          "base_uri": "https://localhost:8080/"
        },
        "outputId": "3bbd784a-54b4-4cd2-e342-86bf8c3c65ca"
      },
      "source": [
        "from youtube_transcript_api import YouTubeTranscriptApi\n",
        "\n",
        "YouTubeTranscriptApi.get_transcript(\"VwN91x5i25g\")"
      ],
      "execution_count": null,
      "outputs": [
        {
          "output_type": "execute_result",
          "data": {
            "text/plain": [
              "[{'duration': 4.859,\n",
              "  'start': 0.0,\n",
              "  'text': 'hello everyone I welcome you all to this'},\n",
              " {'duration': 3.811,\n",
              "  'start': 2.879,\n",
              "  'text': 'wonderful course on computer networks I'},\n",
              " {'duration': 3.271,\n",
              "  'start': 4.859,\n",
              "  'text': 'am your instructor here to take you'},\n",
              " {'duration': 3.54,\n",
              "  'start': 6.69,\n",
              "  'text': 'throughout this journey on computer'},\n",
              " {'duration': 4.049,\n",
              "  'start': 8.13,\n",
              "  'text': \"networks before we start let's figure\"},\n",
              " {'duration': 4.44,\n",
              "  'start': 10.23,\n",
              "  'text': 'out to whom this course is actually'},\n",
              " {'duration': 4.68,\n",
              "  'start': 12.179,\n",
              "  'text': 'intended to this course is mainly for'},\n",
              " {'duration': 3.93,\n",
              "  'start': 14.67,\n",
              "  'text': 'the undergraduate students and this'},\n",
              " {'duration': 3.451,\n",
              "  'start': 16.859,\n",
              "  'text': 'course is useful for the students who'},\n",
              " {'duration': 4.38,\n",
              "  'start': 18.6,\n",
              "  'text': 'are preparing for their gate exams and'},\n",
              " {'duration': 4.35,\n",
              "  'start': 20.31,\n",
              "  'text': 'not only gate exams this course will'},\n",
              " {'duration': 3.93,\n",
              "  'start': 22.98,\n",
              "  'text': 'surely help the students to crack'},\n",
              " {'duration': 4.5,\n",
              "  'start': 24.66,\n",
              "  'text': 'networking based interviews this course'},\n",
              " {'duration': 3.93,\n",
              "  'start': 26.91,\n",
              "  'text': 'can be a prerequisite course to CCNE'},\n",
              " {'duration': 4.169,\n",
              "  'start': 29.16,\n",
              "  'text': 'international certification course and'},\n",
              " {'duration': 4.44,\n",
              "  'start': 30.84,\n",
              "  'text': 'if you want to demystify all the'},\n",
              " {'duration': 3.75,\n",
              "  'start': 33.329,\n",
              "  'text': 'networking technologies and jargons used'},\n",
              " {'duration': 4.32,\n",
              "  'start': 35.28,\n",
              "  'text': 'in the networking field this course will'},\n",
              " {'duration': 4.831,\n",
              "  'start': 37.079,\n",
              "  'text': 'surely fulfill your expectation in a'},\n",
              " {'duration': 4.52,\n",
              "  'start': 39.6,\n",
              "  'text': 'nutshell this course will surely quench'},\n",
              " {'duration': 4.77,\n",
              "  'start': 41.91,\n",
              "  'text': 'the thirst of computer networking and'},\n",
              " {'duration': 5.38,\n",
              "  'start': 44.12,\n",
              "  'text': 'coming to the scope of this course trust'},\n",
              " {'duration': 4.5,\n",
              "  'start': 46.68,\n",
              "  'text': 'me guys networking is everywhere because'},\n",
              " {'duration': 3.649,\n",
              "  'start': 49.5,\n",
              "  'text': 'Network supports the way we learn'},\n",
              " {'duration': 4.32,\n",
              "  'start': 51.18,\n",
              "  'text': 'network supports the way we communicate'},\n",
              " {'duration': 5.05,\n",
              "  'start': 53.149,\n",
              "  'text': 'network supports the way we work and the'},\n",
              " {'duration': 4.89,\n",
              "  'start': 55.5,\n",
              "  'text': 'way we play I shall explain you how'},\n",
              " {'duration': 4.171,\n",
              "  'start': 58.199,\n",
              "  'text': 'Network supports the way we learn I am'},\n",
              " {'duration': 3.75,\n",
              "  'start': 60.39,\n",
              "  'text': 'the instructor of this course and I am'},\n",
              " {'duration': 3.51,\n",
              "  'start': 62.37,\n",
              "  'text': 'teaching in one part of the world and'},\n",
              " {'duration': 3.54,\n",
              "  'start': 64.14,\n",
              "  'text': 'the learners are in different parts of'},\n",
              " {'duration': 3.84,\n",
              "  'start': 65.88,\n",
              "  'text': 'the world still teaching and learning is'},\n",
              " {'duration': 4.53,\n",
              "  'start': 67.68,\n",
              "  'text': \"happening very seamlessly and that's the\"},\n",
              " {'duration': 4.56,\n",
              "  'start': 69.72,\n",
              "  'text': 'power of networking and network supports'},\n",
              " {'duration': 3.93,\n",
              "  'start': 72.21,\n",
              "  'text': 'the way we communicate think of a'},\n",
              " {'duration': 4.29,\n",
              "  'start': 74.28,\n",
              "  'text': 'traditional landline phone communication'},\n",
              " {'duration': 4.38,\n",
              "  'start': 76.14,\n",
              "  'text': 'we used to send only her voice data but'},\n",
              " {'duration': 4.11,\n",
              "  'start': 78.57,\n",
              "  'text': 'now the communication pattern has'},\n",
              " {'duration': 4.59,\n",
              "  'start': 80.52,\n",
              "  'text': 'entirely changed think of an example'},\n",
              " {'duration': 6.0,\n",
              "  'start': 82.68,\n",
              "  'text': \"mobile application what's up we are able\"},\n",
              " {'duration': 7.02,\n",
              "  'start': 85.11,\n",
              "  'text': 'to send text images animations videos'},\n",
              " {'duration': 5.43,\n",
              "  'start': 88.68,\n",
              "  'text': 'audios and even voice calls and video'},\n",
              " {'duration': 4.379,\n",
              "  'start': 92.13,\n",
              "  'text': 'calls which are real-time communication'},\n",
              " {'duration': 4.95,\n",
              "  'start': 94.11,\n",
              "  'text': 'we are able to do all this communication'},\n",
              " {'duration': 4.951,\n",
              "  'start': 96.509,\n",
              "  'text': 'seamlessly and perfectly with the help'},\n",
              " {'duration': 5.07,\n",
              "  'start': 99.06,\n",
              "  'text': \"of computer networks isn't the computer\"},\n",
              " {'duration': 5.549,\n",
              "  'start': 101.46,\n",
              "  'text': 'network awesome guys Network supports'},\n",
              " {'duration': 4.98,\n",
              "  'start': 104.13,\n",
              "  'text': 'the very work yes one can work from home'},\n",
              " {'duration': 4.021,\n",
              "  'start': 107.009,\n",
              "  'text': 'by accessing the files and softwares'},\n",
              " {'duration': 4.73,\n",
              "  'start': 109.11,\n",
              "  'text': 'actually available in the company and'},\n",
              " {'duration': 5.519,\n",
              "  'start': 111.03,\n",
              "  'text': 'network supports the way we played to'},\n",
              " {'duration': 4.69,\n",
              "  'start': 113.84,\n",
              "  'text': 'talking about the pedagogy we need to'},\n",
              " {'duration': 4.291,\n",
              "  'start': 116.549,\n",
              "  'text': 'understand the theoretical background of'},\n",
              " {'duration': 4.049,\n",
              "  'start': 118.53,\n",
              "  'text': 'all the concepts hence we go with the'},\n",
              " {'duration': 4.8,\n",
              "  'start': 120.84,\n",
              "  'text': 'traditional lecturing methods and the'},\n",
              " {'duration': 4.621,\n",
              "  'start': 122.579,\n",
              "  'text': 'contemporary lecturing methods as I'},\n",
              " {'duration': 3.569,\n",
              "  'start': 125.64,\n",
              "  'text': 'already mentioned you that we will be'},\n",
              " {'duration': 4.23,\n",
              "  'start': 127.2,\n",
              "  'text': 'solving many gate examination related'},\n",
              " {'duration': 4.621,\n",
              "  'start': 129.209,\n",
              "  'text': 'problems here in this course and to'},\n",
              " {'duration': 4.29,\n",
              "  'start': 131.43,\n",
              "  'text': 'understand the things practically world'},\n",
              " {'duration': 4.17,\n",
              "  'start': 133.83,\n",
              "  'text': 'one of the most powerful simulation and'},\n",
              " {'duration': 5.25,\n",
              "  'start': 135.72,\n",
              "  'text': 'learning tools the Cisco packet tracer'},\n",
              " {'duration': 4.59,\n",
              "  'start': 138.0,\n",
              "  'text': 'is used in talking about the syllabi in'},\n",
              " {'duration': 3.81, 'start': 140.97, 'text': 'the first face of the computer'},\n",
              " {'duration': 5.37,\n",
              "  'start': 142.59,\n",
              "  'text': 'networking course the fundamentals are'},\n",
              " {'duration': 5.16,\n",
              "  'start': 144.78,\n",
              "  'text': 'dealt elaborately actually computer'},\n",
              " {'duration': 4.53,\n",
              "  'start': 147.96,\n",
              "  'text': 'networks follow slaying to send data'},\n",
              " {'duration': 4.44,\n",
              "  'start': 149.94,\n",
              "  'text': 'from one computer to another and each'},\n",
              " {'duration': 4.35,\n",
              "  'start': 152.49,\n",
              "  'text': 'layer is addressed separately as a'},\n",
              " {'duration': 5.01,\n",
              "  'start': 154.38,\n",
              "  'text': 'separate chapters and it is dealt in a'},\n",
              " {'duration': 4.53,\n",
              "  'start': 156.84,\n",
              "  'text': 'very detailed manner and security is'},\n",
              " {'duration': 4.38,\n",
              "  'start': 159.39,\n",
              "  'text': 'very important not only in real life'},\n",
              " {'duration': 4.32,\n",
              "  'start': 161.37,\n",
              "  'text': 'even for computer networks too and the'},\n",
              " {'duration': 4.59,\n",
              "  'start': 163.77,\n",
              "  'text': 'last phase of the computer network will'},\n",
              " {'duration': 4.71,\n",
              "  'start': 165.69,\n",
              "  'text': 'cover the need for security and how'},\n",
              " {'duration': 4.53,\n",
              "  'start': 168.36,\n",
              "  'text': 'security is provided in computer'},\n",
              " {'duration': 4.89,\n",
              "  'start': 170.4,\n",
              "  'text': \"networks now let's talk about the\"},\n",
              " {'duration': 4.319,\n",
              "  'start': 172.89,\n",
              "  'text': \"outcomes of today's lecture upon the\"},\n",
              " {'duration': 3.66,\n",
              "  'start': 175.29,\n",
              "  'text': 'completion of this lecture the learner'},\n",
              " {'duration': 3.841,\n",
              "  'start': 177.209,\n",
              "  'text': 'will be able to understand what is'},\n",
              " {'duration': 4.56,\n",
              "  'start': 178.95,\n",
              "  'text': 'computer network and they will be able'},\n",
              " {'duration': 5.61,\n",
              "  'start': 181.05,\n",
              "  'text': 'to identify n devices and intermediary'},\n",
              " {'duration': 4.98,\n",
              "  'start': 183.51,\n",
              "  'text': \"devices if the scenario is given we'll\"},\n",
              " {'duration': 4.62,\n",
              "  'start': 186.66,\n",
              "  'text': 'start with the definition of a computer'},\n",
              " {'duration': 5.34,\n",
              "  'start': 188.49,\n",
              "  'text': 'network a computer network is a set of'},\n",
              " {'duration': 5.22,\n",
              "  'start': 191.28,\n",
              "  'text': 'nodes connected by communication links I'},\n",
              " {'duration': 5.01,\n",
              "  'start': 193.83,\n",
              "  'text': 'repeat a computer network is a set of'},\n",
              " {'duration': 4.95,\n",
              "  'start': 196.5,\n",
              "  'text': 'nodes connected by communication links'},\n",
              " {'duration': 4.44, 'start': 198.84, 'text': 'to understand this definition'},\n",
              " {'duration': 3.33,\n",
              "  'start': 201.45,\n",
              "  'text': 'I shall highlight the important words'},\n",
              " {'duration': 4.23, 'start': 203.28, 'text': 'they are the key words of this'},\n",
              " {'duration': 4.98,\n",
              "  'start': 204.78,\n",
              "  'text': 'definition the key words are nodes and'},\n",
              " {'duration': 5.43,\n",
              "  'start': 207.51,\n",
              "  'text': \"communication links firstly we'll\"},\n",
              " {'duration': 6.12,\n",
              "  'start': 209.76,\n",
              "  'text': 'concentrate on nodes a node can be a'},\n",
              " {'duration': 5.76,\n",
              "  'start': 212.94,\n",
              "  'text': 'computer printer or any other device'},\n",
              " {'duration': 5.609,\n",
              "  'start': 215.88,\n",
              "  'text': 'capable of sending or receiving data say'},\n",
              " {'duration': 5.97,\n",
              "  'start': 218.7,\n",
              "  'text': 'you have a device if the device can send'},\n",
              " {'duration': 5.401,\n",
              "  'start': 221.489,\n",
              "  'text': 'data or receive data or both send and'},\n",
              " {'duration': 4.74,\n",
              "  'start': 224.67,\n",
              "  'text': 'receive data then we can call that'},\n",
              " {'duration': 5.7,\n",
              "  'start': 226.89,\n",
              "  'text': 'devices and node so a node can be a'},\n",
              " {'duration': 5.31,\n",
              "  'start': 229.41,\n",
              "  'text': 'computer printer or any device but the'},\n",
              " {'duration': 4.23,\n",
              "  'start': 232.59,\n",
              "  'text': 'important point to note here is that'},\n",
              " {'duration': 4.89,\n",
              "  'start': 234.72,\n",
              "  'text': 'device should be capable enough in'},\n",
              " {'duration': 5.73,\n",
              "  'start': 236.82,\n",
              "  'text': 'sending or receiving the data we shall'},\n",
              " {'duration': 5.07,\n",
              "  'start': 239.61,\n",
              "  'text': 'see some examples for nodes obviously a'},\n",
              " {'duration': 4.7,\n",
              "  'start': 242.55,\n",
              "  'text': 'computer is a node because a computer'},\n",
              " {'duration': 6.779,\n",
              "  'start': 244.68,\n",
              "  'text': 'can send data as well as receive data a'},\n",
              " {'duration': 6.4,\n",
              "  'start': 247.25,\n",
              "  'text': 'server printer security camera and many'},\n",
              " {'duration': 4.5,\n",
              "  'start': 251.459,\n",
              "  'text': 'devices like switches bridges and'},\n",
              " {'duration': 4.32,\n",
              "  'start': 253.65,\n",
              "  'text': 'routers are also called as nodes we will'},\n",
              " {'duration': 4.71,\n",
              "  'start': 255.959,\n",
              "  'text': 'be dealing about switches bridges and'},\n",
              " {'duration': 5.009,\n",
              "  'start': 257.97,\n",
              "  'text': 'routers in the upcoming lectures now we'},\n",
              " {'duration': 4.011,\n",
              "  'start': 260.669,\n",
              "  'text': \"are done with nodes we'll concentrate on\"},\n",
              " {'duration': 4.681,\n",
              "  'start': 262.979,\n",
              "  'text': 'what are communication links a'},\n",
              " {'duration': 5.53,\n",
              "  'start': 264.68,\n",
              "  'text': 'communication link can be a wired link'},\n",
              " {'duration': 5.13,\n",
              "  'start': 267.66,\n",
              "  'text': 'wireless link the important point to'},\n",
              " {'duration': 4.95,\n",
              "  'start': 270.21,\n",
              "  'text': 'note about the link is that this link'},\n",
              " {'duration': 3.9,\n",
              "  'start': 272.79,\n",
              "  'text': 'only carries the information if you'},\n",
              " {'duration': 3.93,\n",
              "  'start': 275.16,\n",
              "  'text': \"don't understand anything out of this\"},\n",
              " {'duration': 5.1,\n",
              "  'start': 276.69,\n",
              "  'text': 'just wait for this example see this'},\n",
              " {'duration': 4.68,\n",
              "  'start': 279.09,\n",
              "  'text': 'example now there are two computers we'},\n",
              " {'duration': 4.68,\n",
              "  'start': 281.79,\n",
              "  'text': 'can call these two computers as knows'},\n",
              " {'duration': 5.13,\n",
              "  'start': 283.77,\n",
              "  'text': 'why because these two computers can send'},\n",
              " {'duration': 4.05,\n",
              "  'start': 286.47,\n",
              "  'text': 'data as well as receive data now these'},\n",
              " {'duration': 3.66,\n",
              "  'start': 288.9,\n",
              "  'text': 'nodes are going to exchange their'},\n",
              " {'duration': 3.87,\n",
              "  'start': 290.52,\n",
              "  'text': 'information but for exchanging the'},\n",
              " {'duration': 3.87,\n",
              "  'start': 292.56,\n",
              "  'text': 'information they are depending upon this'},\n",
              " {'duration': 4.74,\n",
              "  'start': 294.39,\n",
              "  'text': 'cable where this cable is still linked'},\n",
              " {'duration': 5.07,\n",
              "  'start': 296.43,\n",
              "  'text': 'now obviously a cable is a physical'},\n",
              " {'duration': 5.16,\n",
              "  'start': 299.13,\n",
              "  'text': 'medium so it comes under wired category'},\n",
              " {'duration': 5.07,\n",
              "  'start': 301.5,\n",
              "  'text': 'so wired link carries the information'},\n",
              " {'duration': 4.46,\n",
              "  'start': 304.29,\n",
              "  'text': 'from this computer to this computer or'},\n",
              " {'duration': 4.86,\n",
              "  'start': 306.57,\n",
              "  'text': 'vice versa but there are scenarios where'},\n",
              " {'duration': 4.51,\n",
              "  'start': 308.75,\n",
              "  'text': 'two devices wants to communicate with'},\n",
              " {'duration': 4.44,\n",
              "  'start': 311.43,\n",
              "  'text': 'each other but not with the help of'},\n",
              " {'duration': 5.01,\n",
              "  'start': 313.26,\n",
              "  'text': 'cables set in the scenario these two'},\n",
              " {'duration': 4.44,\n",
              "  'start': 315.87,\n",
              "  'text': 'smartphones wants to exchange data say'},\n",
              " {'duration': 4.11,\n",
              "  'start': 318.27,\n",
              "  'text': 'this phone wants to give some data to'},\n",
              " {'duration': 4.14,\n",
              "  'start': 320.31,\n",
              "  'text': 'this phone in this case there is no'},\n",
              " {'duration': 4.2,\n",
              "  'start': 322.38,\n",
              "  'text': 'physical connectivity then how can be'},\n",
              " {'duration': 3.66,\n",
              "  'start': 324.45,\n",
              "  'text': 'that communication be established this'},\n",
              " {'duration': 3.93, 'start': 326.58, 'text': 'is possible through wireless'},\n",
              " {'duration': 5.22,\n",
              "  'start': 328.11,\n",
              "  'text': 'technologies if that is the case who is'},\n",
              " {'duration': 5.97,\n",
              "  'start': 330.51,\n",
              "  'text': 'going to carry the signals obviously air'},\n",
              " {'duration': 5.82,\n",
              "  'start': 333.33,\n",
              "  'text': 'is going to carry the data so here ad is'},\n",
              " {'duration': 6.09,\n",
              "  'start': 336.48,\n",
              "  'text': 'the link that carries the data from one'},\n",
              " {'duration': 5.64,\n",
              "  'start': 339.15,\n",
              "  'text': 'place to another place so we have two'},\n",
              " {'duration': 4.2,\n",
              "  'start': 342.57,\n",
              "  'text': 'kinds of communication links one is a'},\n",
              " {'duration': 3.629,\n",
              "  'start': 344.79,\n",
              "  'text': 'wildling another one is a wireless link'},\n",
              " {'duration': 3.66, 'start': 346.77, 'text': 'and the link only carries the'},\n",
              " {'duration': 4.891,\n",
              "  'start': 348.419,\n",
              "  'text': 'information we shall see some examples'},\n",
              " {'duration': 6.59,\n",
              "  'start': 350.43,\n",
              "  'text': 'cable is a best example for wired link'},\n",
              " {'duration': 6.53,\n",
              "  'start': 353.31,\n",
              "  'text': 'and R is the best example for a wireless'},\n",
              " {'duration': 6.42,\n",
              "  'start': 357.02,\n",
              "  'text': \"now let's take this example where this\"},\n",
              " {'duration': 6.45,\n",
              "  'start': 359.84,\n",
              "  'text': 'example involves lots of nodes and so'},\n",
              " {'duration': 5.13,\n",
              "  'start': 363.44,\n",
              "  'text': 'many links if you observe certain links'},\n",
              " {'duration': 4.5,\n",
              "  'start': 366.29,\n",
              "  'text': 'are my earnings and certain links are'},\n",
              " {'duration': 5.04,\n",
              "  'start': 368.57,\n",
              "  'text': 'wireless links so this is a perfect'},\n",
              " {'duration': 4.47,\n",
              "  'start': 370.79,\n",
              "  'text': 'example of a sample computer network now'},\n",
              " {'duration': 3.87,\n",
              "  'start': 373.61,\n",
              "  'text': 'what are all the devices or nodes'},\n",
              " {'duration': 4.65,\n",
              "  'start': 375.26,\n",
              "  'text': 'involved in the network this printer is'},\n",
              " {'duration': 5.34,\n",
              "  'start': 377.48,\n",
              "  'text': 'a node the stock computers are nodes'},\n",
              " {'duration': 5.25,\n",
              "  'start': 379.91,\n",
              "  'text': 'tablet is a node the smartphone is a'},\n",
              " {'duration': 4.56,\n",
              "  'start': 382.82,\n",
              "  'text': 'node cell phone tower is a node this'},\n",
              " {'duration': 5.37,\n",
              "  'start': 385.16,\n",
              "  'text': 'wireless router is a node route the'},\n",
              " {'duration': 5.13,\n",
              "  'start': 387.38,\n",
              "  'text': 'internet cloud see there are lots of'},\n",
              " {'duration': 4.59,\n",
              "  'start': 390.53,\n",
              "  'text': 'nodes involved in this internet cloud in'},\n",
              " {'duration': 4.77,\n",
              "  'start': 392.51,\n",
              "  'text': 'reality internet contains lots of'},\n",
              " {'duration': 4.56,\n",
              "  'start': 395.12,\n",
              "  'text': 'intermediary devices these are all'},\n",
              " {'duration': 4.89,\n",
              "  'start': 397.28,\n",
              "  'text': 'intermediary devices and these role end'},\n",
              " {'duration': 4.92,\n",
              "  'start': 399.68,\n",
              "  'text': 'devices why we call this as in device'},\n",
              " {'duration': 4.47,\n",
              "  'start': 402.17,\n",
              "  'text': 'because this will be either the starting'},\n",
              " {'duration': 4.08,\n",
              "  'start': 404.6,\n",
              "  'text': 'point of the communication or the end'},\n",
              " {'duration': 5.06,\n",
              "  'start': 406.64,\n",
              "  'text': 'point in the communication say for'},\n",
              " {'duration': 9.72,\n",
              "  'start': 408.68,\n",
              "  'text': 'example if this computer wants to access'},\n",
              " {'duration': 8.8,\n",
              "  'start': 411.7,\n",
              "  'text': 'www.eso.org ESO on this device this'},\n",
              " {'duration': 4.02, 'start': 418.4, 'text': 'switch is the buyer willing but'},\n",
              " {'duration': 5.16,\n",
              "  'start': 420.5,\n",
              "  'text': 'communication can happen through this'},\n",
              " {'duration': 5.19,\n",
              "  'start': 422.42,\n",
              "  'text': 'intermediary devices similarly if this'},\n",
              " {'duration': 4.53,\n",
              "  'start': 425.66,\n",
              "  'text': 'mode phone also wants to get some data'},\n",
              " {'duration': 4.89, 'start': 427.61, 'text': 'from naso Academy dot hua ji'},\n",
              " {'duration': 4.14,\n",
              "  'start': 430.19,\n",
              "  'text': 'this can also give the request but this'},\n",
              " {'duration': 4.14,\n",
              "  'start': 432.5,\n",
              "  'text': 'request can be carried out either this'},\n",
              " {'duration': 4.71,\n",
              "  'start': 434.33,\n",
              "  'text': 'way or this way but if you observing'},\n",
              " {'duration': 4.29,\n",
              "  'start': 436.64,\n",
              "  'text': 'both events they are wireless so the'},\n",
              " {'duration': 3.99,\n",
              "  'start': 439.04,\n",
              "  'text': 'same server can be accessed with the'},\n",
              " {'duration': 5.4,\n",
              "  'start': 440.93,\n",
              "  'text': 'help of wires as well as with the will'},\n",
              " {'duration': 5.82,\n",
              "  'start': 443.03,\n",
              "  'text': 'both wireless now the important point to'},\n",
              " {'duration': 5.39,\n",
              "  'start': 446.33,\n",
              "  'text': 'note about a computer network is that it'},\n",
              " {'duration': 5.43,\n",
              "  'start': 448.85,\n",
              "  'text': 'is mainly used for research re a'},\n",
              " {'duration': 5.14,\n",
              "  'start': 451.72,\n",
              "  'text': 'computer network is mainly used for'},\n",
              " {'duration': 5.4,\n",
              "  'start': 454.28,\n",
              "  'text': 'resource sharing say there are four'},\n",
              " {'duration': 5.64,\n",
              "  'start': 456.86,\n",
              "  'text': 'computers here if all four computers'},\n",
              " {'duration': 5.85,\n",
              "  'start': 459.68,\n",
              "  'text': 'wants a printer it is definitely not an'},\n",
              " {'duration': 6.78,\n",
              "  'start': 462.5,\n",
              "  'text': 'ideal solution to purchase four printers'},\n",
              " {'duration': 6.12,\n",
              "  'start': 465.53,\n",
              "  'text': 'for all computers think of the scenario'},\n",
              " {'duration': 4.23,\n",
              "  'start': 469.28,\n",
              "  'text': 'this way I have brought in a printer and'},\n",
              " {'duration': 4.8,\n",
              "  'start': 471.65,\n",
              "  'text': 'have connected this printer to my'},\n",
              " {'duration': 6.84,\n",
              "  'start': 473.51,\n",
              "  'text': 'network now all these four computers can'},\n",
              " {'duration': 7.22,\n",
              "  'start': 476.45,\n",
              "  'text': 'use this printer so thus networks save a'},\n",
              " {'duration': 6.0,\n",
              "  'start': 480.35,\n",
              "  'text': 'lot of infrastructure cost as well and'},\n",
              " {'duration': 4.96,\n",
              "  'start': 483.67,\n",
              "  'text': 'there is an interesting scenario for you'},\n",
              " {'duration': 4.289,\n",
              "  'start': 486.35,\n",
              "  'text': 'you have to find out what on the end'},\n",
              " {'duration': 3.99, 'start': 488.63, 'text': 'device is used in the scenario'},\n",
              " {'duration': 4.71,\n",
              "  'start': 490.639,\n",
              "  'text': 'and what are the intermediary devices'},\n",
              " {'duration': 5.129,\n",
              "  'start': 492.62,\n",
              "  'text': 'after finding out all the end devices'},\n",
              " {'duration': 6.0,\n",
              "  'start': 495.349,\n",
              "  'text': 'and the intermediary devices just list'},\n",
              " {'duration': 5.88,\n",
              "  'start': 497.749,\n",
              "  'text': 'it out like this on your paper so I am'},\n",
              " {'duration': 4.29,\n",
              "  'start': 501.349,\n",
              "  'text': 'showing this scenario for you please'},\n",
              " {'duration': 4.56,\n",
              "  'start': 503.629,\n",
              "  'text': 'take a piece of paper and note down all'},\n",
              " {'duration': 4.65,\n",
              "  'start': 505.639,\n",
              "  'text': 'the N devices and intermediary devices'},\n",
              " {'duration': 5.09,\n",
              "  'start': 508.189,\n",
              "  'text': 'please pause this video for a while and'},\n",
              " {'duration': 2.99, 'start': 510.289, 'text': 'carry out this task'},\n",
              " {'duration': 6.24,\n",
              "  'start': 514.279,\n",
              "  'text': 'once done you compare this with the'},\n",
              " {'duration': 4.491,\n",
              "  'start': 517.189,\n",
              "  'text': 'actual result now if your result is'},\n",
              " {'duration': 3.15, 'start': 520.519, 'text': 'matching with this result'},\n",
              " {'duration': 3.969,\n",
              "  'start': 521.68,\n",
              "  'text': 'congratulations to you you are'},\n",
              " {'duration': 4.501,\n",
              "  'start': 523.669,\n",
              "  'text': 'progressing in the right direction if'},\n",
              " {'duration': 4.651,\n",
              "  'start': 525.649,\n",
              "  'text': 'not no problem guys we are in the'},\n",
              " {'duration': 4.05,\n",
              "  'start': 528.17,\n",
              "  'text': 'initial stage it will take some lectures'},\n",
              " {'duration': 5.13, 'start': 530.3, 'text': 'to understand the details about'},\n",
              " {'duration': 5.219,\n",
              "  'start': 532.22,\n",
              "  'text': 'networking upon this completion of this'},\n",
              " {'duration': 4.139,\n",
              "  'start': 535.43,\n",
              "  'text': 'lecture the learner will be able to'},\n",
              " {'duration': 4.77,\n",
              "  'start': 537.439,\n",
              "  'text': 'understand what is computer network and'},\n",
              " {'duration': 5.13,\n",
              "  'start': 539.569,\n",
              "  'text': 'given a scenario the learner will be'},\n",
              " {'duration': 5.55,\n",
              "  'start': 542.209,\n",
              "  'text': 'able to identify what are n devices and'},\n",
              " {'duration': 4.83,\n",
              "  'start': 544.699,\n",
              "  'text': 'water intermediary devices I hope you'},\n",
              " {'duration': 3.781,\n",
              "  'start': 547.759,\n",
              "  'text': 'are all very clear with the definition'},\n",
              " {'duration': 4.56,\n",
              "  'start': 549.529,\n",
              "  'text': 'of a computer network it is a set of'},\n",
              " {'duration': 5.07,\n",
              "  'start': 551.54,\n",
              "  'text': 'nodes connected by communication links'},\n",
              " {'duration': 5.25,\n",
              "  'start': 554.089,\n",
              "  'text': 'where that link can be a wired link or a'},\n",
              " {'duration': 4.26,\n",
              "  'start': 556.61,\n",
              "  'text': 'wireless link the devices which are the'},\n",
              " {'duration': 3.54,\n",
              "  'start': 559.339,\n",
              "  'text': 'source or the destination in the'},\n",
              " {'duration': 4.469,\n",
              "  'start': 560.87,\n",
              "  'text': 'communication are called as n devices'},\n",
              " {'duration': 4.531,\n",
              "  'start': 562.879,\n",
              "  'text': 'the devices which forwards the data from'},\n",
              " {'duration': 5.161,\n",
              "  'start': 565.339,\n",
              "  'text': 'one side to another side they are called'},\n",
              " {'duration': 5.51,\n",
              "  'start': 567.41,\n",
              "  'text': 'as intermediary devices thank you for'},\n",
              " {'duration': 2.42, 'start': 570.5, 'text': 'watching'},\n",
              " {'duration': 12.399, 'start': 573.08, 'text': '[Applause]'},\n",
              " {'duration': 10.219, 'start': 575.26, 'text': '[Music]'}]"
            ]
          },
          "metadata": {
            "tags": []
          },
          "execution_count": 20
        }
      ]
    },
    {
      "cell_type": "code",
      "metadata": {
        "id": "DuiS7zRUEEdu"
      },
      "source": [
        "from youtube_transcript_api.formatters import TextFormatter\n",
        "from youtube_transcript_api import YouTubeTranscriptApi\n",
        "transcript = YouTubeTranscriptApi.get_transcript(\"VwN91x5i25g\")\n",
        "formatter = TextFormatter()\n",
        "txt_formatted = formatter.format_transcript(transcript)\n",
        "with open('your_filename.txt', 'w', encoding='utf-8') as txt_file:\n",
        "    txt_file.write(txt_formatted)"
      ],
      "execution_count": null,
      "outputs": []
    },
    {
      "cell_type": "code",
      "metadata": {
        "id": "M5-GtFZXIimK",
        "colab": {
          "base_uri": "https://localhost:8080/"
        },
        "outputId": "0af656d3-b8c9-49b9-dfde-8f05a72ad685"
      },
      "source": [
        "print(txt_formatted)"
      ],
      "execution_count": null,
      "outputs": [
        {
          "output_type": "stream",
          "text": [
            "hello everyone I welcome you all to this\n",
            "wonderful course on computer networks I\n",
            "am your instructor here to take you\n",
            "throughout this journey on computer\n",
            "networks before we start let's figure\n",
            "out to whom this course is actually\n",
            "intended to this course is mainly for\n",
            "the undergraduate students and this\n",
            "course is useful for the students who\n",
            "are preparing for their gate exams and\n",
            "not only gate exams this course will\n",
            "surely help the students to crack\n",
            "networking based interviews this course\n",
            "can be a prerequisite course to CCNE\n",
            "international certification course and\n",
            "if you want to demystify all the\n",
            "networking technologies and jargons used\n",
            "in the networking field this course will\n",
            "surely fulfill your expectation in a\n",
            "nutshell this course will surely quench\n",
            "the thirst of computer networking and\n",
            "coming to the scope of this course trust\n",
            "me guys networking is everywhere because\n",
            "Network supports the way we learn\n",
            "network supports the way we communicate\n",
            "network supports the way we work and the\n",
            "way we play I shall explain you how\n",
            "Network supports the way we learn I am\n",
            "the instructor of this course and I am\n",
            "teaching in one part of the world and\n",
            "the learners are in different parts of\n",
            "the world still teaching and learning is\n",
            "happening very seamlessly and that's the\n",
            "power of networking and network supports\n",
            "the way we communicate think of a\n",
            "traditional landline phone communication\n",
            "we used to send only her voice data but\n",
            "now the communication pattern has\n",
            "entirely changed think of an example\n",
            "mobile application what's up we are able\n",
            "to send text images animations videos\n",
            "audios and even voice calls and video\n",
            "calls which are real-time communication\n",
            "we are able to do all this communication\n",
            "seamlessly and perfectly with the help\n",
            "of computer networks isn't the computer\n",
            "network awesome guys Network supports\n",
            "the very work yes one can work from home\n",
            "by accessing the files and softwares\n",
            "actually available in the company and\n",
            "network supports the way we played to\n",
            "talking about the pedagogy we need to\n",
            "understand the theoretical background of\n",
            "all the concepts hence we go with the\n",
            "traditional lecturing methods and the\n",
            "contemporary lecturing methods as I\n",
            "already mentioned you that we will be\n",
            "solving many gate examination related\n",
            "problems here in this course and to\n",
            "understand the things practically world\n",
            "one of the most powerful simulation and\n",
            "learning tools the Cisco packet tracer\n",
            "is used in talking about the syllabi in\n",
            "the first face of the computer\n",
            "networking course the fundamentals are\n",
            "dealt elaborately actually computer\n",
            "networks follow slaying to send data\n",
            "from one computer to another and each\n",
            "layer is addressed separately as a\n",
            "separate chapters and it is dealt in a\n",
            "very detailed manner and security is\n",
            "very important not only in real life\n",
            "even for computer networks too and the\n",
            "last phase of the computer network will\n",
            "cover the need for security and how\n",
            "security is provided in computer\n",
            "networks now let's talk about the\n",
            "outcomes of today's lecture upon the\n",
            "completion of this lecture the learner\n",
            "will be able to understand what is\n",
            "computer network and they will be able\n",
            "to identify n devices and intermediary\n",
            "devices if the scenario is given we'll\n",
            "start with the definition of a computer\n",
            "network a computer network is a set of\n",
            "nodes connected by communication links I\n",
            "repeat a computer network is a set of\n",
            "nodes connected by communication links\n",
            "to understand this definition\n",
            "I shall highlight the important words\n",
            "they are the key words of this\n",
            "definition the key words are nodes and\n",
            "communication links firstly we'll\n",
            "concentrate on nodes a node can be a\n",
            "computer printer or any other device\n",
            "capable of sending or receiving data say\n",
            "you have a device if the device can send\n",
            "data or receive data or both send and\n",
            "receive data then we can call that\n",
            "devices and node so a node can be a\n",
            "computer printer or any device but the\n",
            "important point to note here is that\n",
            "device should be capable enough in\n",
            "sending or receiving the data we shall\n",
            "see some examples for nodes obviously a\n",
            "computer is a node because a computer\n",
            "can send data as well as receive data a\n",
            "server printer security camera and many\n",
            "devices like switches bridges and\n",
            "routers are also called as nodes we will\n",
            "be dealing about switches bridges and\n",
            "routers in the upcoming lectures now we\n",
            "are done with nodes we'll concentrate on\n",
            "what are communication links a\n",
            "communication link can be a wired link\n",
            "wireless link the important point to\n",
            "note about the link is that this link\n",
            "only carries the information if you\n",
            "don't understand anything out of this\n",
            "just wait for this example see this\n",
            "example now there are two computers we\n",
            "can call these two computers as knows\n",
            "why because these two computers can send\n",
            "data as well as receive data now these\n",
            "nodes are going to exchange their\n",
            "information but for exchanging the\n",
            "information they are depending upon this\n",
            "cable where this cable is still linked\n",
            "now obviously a cable is a physical\n",
            "medium so it comes under wired category\n",
            "so wired link carries the information\n",
            "from this computer to this computer or\n",
            "vice versa but there are scenarios where\n",
            "two devices wants to communicate with\n",
            "each other but not with the help of\n",
            "cables set in the scenario these two\n",
            "smartphones wants to exchange data say\n",
            "this phone wants to give some data to\n",
            "this phone in this case there is no\n",
            "physical connectivity then how can be\n",
            "that communication be established this\n",
            "is possible through wireless\n",
            "technologies if that is the case who is\n",
            "going to carry the signals obviously air\n",
            "is going to carry the data so here ad is\n",
            "the link that carries the data from one\n",
            "place to another place so we have two\n",
            "kinds of communication links one is a\n",
            "wildling another one is a wireless link\n",
            "and the link only carries the\n",
            "information we shall see some examples\n",
            "cable is a best example for wired link\n",
            "and R is the best example for a wireless\n",
            "now let's take this example where this\n",
            "example involves lots of nodes and so\n",
            "many links if you observe certain links\n",
            "are my earnings and certain links are\n",
            "wireless links so this is a perfect\n",
            "example of a sample computer network now\n",
            "what are all the devices or nodes\n",
            "involved in the network this printer is\n",
            "a node the stock computers are nodes\n",
            "tablet is a node the smartphone is a\n",
            "node cell phone tower is a node this\n",
            "wireless router is a node route the\n",
            "internet cloud see there are lots of\n",
            "nodes involved in this internet cloud in\n",
            "reality internet contains lots of\n",
            "intermediary devices these are all\n",
            "intermediary devices and these role end\n",
            "devices why we call this as in device\n",
            "because this will be either the starting\n",
            "point of the communication or the end\n",
            "point in the communication say for\n",
            "example if this computer wants to access\n",
            "www.eso.org ESO on this device this\n",
            "switch is the buyer willing but\n",
            "communication can happen through this\n",
            "intermediary devices similarly if this\n",
            "mode phone also wants to get some data\n",
            "from naso Academy dot hua ji\n",
            "this can also give the request but this\n",
            "request can be carried out either this\n",
            "way or this way but if you observing\n",
            "both events they are wireless so the\n",
            "same server can be accessed with the\n",
            "help of wires as well as with the will\n",
            "both wireless now the important point to\n",
            "note about a computer network is that it\n",
            "is mainly used for research re a\n",
            "computer network is mainly used for\n",
            "resource sharing say there are four\n",
            "computers here if all four computers\n",
            "wants a printer it is definitely not an\n",
            "ideal solution to purchase four printers\n",
            "for all computers think of the scenario\n",
            "this way I have brought in a printer and\n",
            "have connected this printer to my\n",
            "network now all these four computers can\n",
            "use this printer so thus networks save a\n",
            "lot of infrastructure cost as well and\n",
            "there is an interesting scenario for you\n",
            "you have to find out what on the end\n",
            "device is used in the scenario\n",
            "and what are the intermediary devices\n",
            "after finding out all the end devices\n",
            "and the intermediary devices just list\n",
            "it out like this on your paper so I am\n",
            "showing this scenario for you please\n",
            "take a piece of paper and note down all\n",
            "the N devices and intermediary devices\n",
            "please pause this video for a while and\n",
            "carry out this task\n",
            "once done you compare this with the\n",
            "actual result now if your result is\n",
            "matching with this result\n",
            "congratulations to you you are\n",
            "progressing in the right direction if\n",
            "not no problem guys we are in the\n",
            "initial stage it will take some lectures\n",
            "to understand the details about\n",
            "networking upon this completion of this\n",
            "lecture the learner will be able to\n",
            "understand what is computer network and\n",
            "given a scenario the learner will be\n",
            "able to identify what are n devices and\n",
            "water intermediary devices I hope you\n",
            "are all very clear with the definition\n",
            "of a computer network it is a set of\n",
            "nodes connected by communication links\n",
            "where that link can be a wired link or a\n",
            "wireless link the devices which are the\n",
            "source or the destination in the\n",
            "communication are called as n devices\n",
            "the devices which forwards the data from\n",
            "one side to another side they are called\n",
            "as intermediary devices thank you for\n",
            "watching\n",
            "[Applause]\n",
            "[Music]\n"
          ],
          "name": "stdout"
        }
      ]
    },
    {
      "cell_type": "code",
      "metadata": {
        "colab": {
          "base_uri": "https://localhost:8080/"
        },
        "id": "sjRs57aTlmXb",
        "outputId": "14c1d346-d2e7-411b-ed86-23f259c2d0d2"
      },
      "source": [
        "from google.colab import drive\n",
        "drive.mount('/content/drive')"
      ],
      "execution_count": null,
      "outputs": [
        {
          "output_type": "stream",
          "text": [
            "Drive already mounted at /content/drive; to attempt to forcibly remount, call drive.mount(\"/content/drive\", force_remount=True).\n"
          ],
          "name": "stdout"
        }
      ]
    },
    {
      "cell_type": "code",
      "metadata": {
        "id": "AtGRJtgEI6xM",
        "colab": {
          "base_uri": "https://localhost:8080/"
        },
        "outputId": "e427ecc8-54fe-48d8-a619-523f47b1f887"
      },
      "source": [
        "!pip install punctuator"
      ],
      "execution_count": null,
      "outputs": [
        {
          "output_type": "stream",
          "text": [
            "Requirement already satisfied: punctuator in /usr/local/lib/python3.7/dist-packages (0.9.6)\n",
            "Requirement already satisfied: numpy>=1.17.2 in /usr/local/lib/python3.7/dist-packages (from punctuator) (1.19.5)\n",
            "Requirement already satisfied: nltk>=3.4.5 in /usr/local/lib/python3.7/dist-packages (from punctuator) (3.5)\n",
            "Requirement already satisfied: theano>=1.0.4 in /usr/local/lib/python3.7/dist-packages (from punctuator) (1.0.5)\n",
            "Requirement already satisfied: gdown>=3.8.3 in /usr/local/lib/python3.7/dist-packages (from punctuator) (3.12.2)\n",
            "Requirement already satisfied: joblib in /usr/local/lib/python3.7/dist-packages (from nltk>=3.4.5->punctuator) (1.0.1)\n",
            "Requirement already satisfied: click in /usr/local/lib/python3.7/dist-packages (from nltk>=3.4.5->punctuator) (7.1.2)\n",
            "Requirement already satisfied: regex in /usr/local/lib/python3.7/dist-packages (from nltk>=3.4.5->punctuator) (2019.12.20)\n",
            "Requirement already satisfied: tqdm in /usr/local/lib/python3.7/dist-packages (from nltk>=3.4.5->punctuator) (4.41.1)\n",
            "Requirement already satisfied: six>=1.9.0 in /usr/local/lib/python3.7/dist-packages (from theano>=1.0.4->punctuator) (1.15.0)\n",
            "Requirement already satisfied: scipy>=0.14 in /usr/local/lib/python3.7/dist-packages (from theano>=1.0.4->punctuator) (1.4.1)\n",
            "Requirement already satisfied: requests[socks] in /usr/local/lib/python3.7/dist-packages (from gdown>=3.8.3->punctuator) (2.23.0)\n",
            "Requirement already satisfied: filelock in /usr/local/lib/python3.7/dist-packages (from gdown>=3.8.3->punctuator) (3.0.12)\n",
            "Requirement already satisfied: urllib3!=1.25.0,!=1.25.1,<1.26,>=1.21.1 in /usr/local/lib/python3.7/dist-packages (from requests[socks]->gdown>=3.8.3->punctuator) (1.24.3)\n",
            "Requirement already satisfied: idna<3,>=2.5 in /usr/local/lib/python3.7/dist-packages (from requests[socks]->gdown>=3.8.3->punctuator) (2.10)\n",
            "Requirement already satisfied: certifi>=2017.4.17 in /usr/local/lib/python3.7/dist-packages (from requests[socks]->gdown>=3.8.3->punctuator) (2020.12.5)\n",
            "Requirement already satisfied: chardet<4,>=3.0.2 in /usr/local/lib/python3.7/dist-packages (from requests[socks]->gdown>=3.8.3->punctuator) (3.0.4)\n",
            "Requirement already satisfied: PySocks!=1.5.7,>=1.5.6; extra == \"socks\" in /usr/local/lib/python3.7/dist-packages (from requests[socks]->gdown>=3.8.3->punctuator) (1.7.1)\n"
          ],
          "name": "stdout"
        }
      ]
    },
    {
      "cell_type": "code",
      "metadata": {
        "id": "PJPc9Z_bLV6p"
      },
      "source": [
        "from punctuator import Punctuator\n",
        "p = Punctuator('/content/drive/MyDrive/FinalYrProj/Copy of Demo-Europarl-EN.pcl')\n"
      ],
      "execution_count": null,
      "outputs": []
    },
    {
      "cell_type": "code",
      "metadata": {
        "colab": {
          "base_uri": "https://localhost:8080/"
        },
        "id": "BKmXqkOGLfU9",
        "outputId": "16004be4-53cc-4d18-d50e-3fd49d15b6cd"
      },
      "source": [
        "text_to_summ = p.punctuate(txt_formatted)\n",
        "print(text_to_summ)"
      ],
      "execution_count": null,
      "outputs": [
        {
          "output_type": "stream",
          "text": [
            "Hello, everyone I welcome you all to this wonderful course on computer networks. I am your instructor here to take you throughout this journey on computer networks. Before we start, let's figure out to whom this course is actually intended to this course is mainly for the undergraduate students and this course is useful for the students who are preparing for their gate exams and not only gate exams. This course will surely help the students to crack networking based interviews. This course can be a prerequisite course to CCNE international certification course, and if you want to demystify all the networking technologies and jargons used in the networking field, this course will surely fulfill your expectation. In a nutshell. This course will surely quench the thirst of computer networking and coming to the scope of this course. Trust me guys. Networking is everywhere because Network supports the way we learn network supports the way we communicate network supports the way we work and the way we play I shall explain you how Network supports the way we learn. I am the instructor of this course and I am teaching in one part of the world and the learners are in different parts of the world. Still teaching and learning is happening very seamlessly and that's the power of networking and network supports the way we communicate. Think of a traditional landline phone communication. We used to send only her voice data, but now the communication pattern has entirely changed. Think of an example mobile application. What's up, we are able to send text images, animations, videos, audios and even voice calls and video calls, which are real-time communication. We are able to do all this communication seamlessly and perfectly with the help of computer networks. Isn't the computer network awesome guys? Network supports the very work? Yes, one can work from home by accessing the files and softwares actually available in the company and network supports the way we played to talking about the pedagogy. We need to understand the theoretical background of all the concepts. Hence we go with the traditional lecturing methods and the contemporary lecturing methods, as I already mentioned, you that we will be solving many gate. Examination related problems here in this course and to understand the things practically world, one of the most powerful simulation and learning tools the Cisco packet tracer is used in talking about the syllabi in the first face of the computer networking course the fundamentals are dealt elaborately. Actually, computer networks follow slaying to send data from one computer to another, and each layer is addressed separately as a separate chapters and it is dealt in a very detailed manner and security is very important not only in real life, even for computer networks too, and the last phase of the computer network will cover the need for security and how security is provided in computer networks. Now, let's talk about the outcomes of today's lecture upon the completion of this lecture, the learner will be able to understand what is computer network and they will be able to identify n devices and intermediary devices. If the scenario is given we'll start with the definition of a computer network, a computer network is a set of nodes connected by communication links. I repeat: a computer network is a set of nodes connected by communication links to understand this definition. I shall highlight the important words. They are the key words of this definition. The key words are nodes and communication links. Firstly, we'll concentrate on nodes, a node can be a computer printer or any other device capable of sending or receiving data say you have a device. If the device can send data or receive data or both send and receive data, then we can call that devices and node, so a node can be a computer, printer or any device. But the important point to note here is that device should be capable enough in sending or receiving the data. We shall see some examples for nodes. Obviously, a computer is a node, because a computer can send data as well as receive data. A server printer security, camera and many devices like switches, bridges and routers are also called as nodes. We will be dealing about switches, bridges and routers in the upcoming lectures. Now we are done with nodes, we'll concentrate on what are communication links. A communication link can be a wired link. Wireless link. The important point to note about the link is that this link only carries the information. If you don't understand anything out of this, just wait for this example see this example. Now there are two computers: we can call these two computers. As knows why? Because these two computers can send data as well as receive data. Now these nodes are going to exchange their information, but for exchanging the information they are depending upon this cable, where this cable is still linked. Now, obviously, a cable is a physical medium, so it comes under wired category. So wired link carries the information from this computer to this computer or vice versa, but there are scenarios where two devices wants to communicate with each other, but not with the help of cables set. In the scenario, these two smartphones wants to exchange data say this phone wants to give some data to this phone. In this case there is no physical connectivity, then how can be that communication be established? This is possible through wireless technologies. If that is the case, who is going to carry the signals? Obviously air is going to carry the data, so here ad is the link that carries the data from one place to another place. So we have two kinds of communication links: one is a wildling another one is a wireless link and the link only carries the information. We shall see. Some examples. Cable is a best example for wired link and R is the best example for a wireless. Now, let's take this example where this example involves lots of nodes, and so many links, if you observe certain links, are my earnings and certain links are wireless links. So this is a perfect example of a sample computer network. Now, what are all the devices or nodes involved in the network? This printer is a node. The stock computers are nodes. Tablet is a node. The smartphone is a node cell phone tower is a node. This wireless router is a node route. The internet cloud see there are lots of nodes involved in this internet cloud. In reality, internet contains lots of intermediary devices. These are all intermediary devices, and these role end devices. Why we call this as in device, because this will be either the starting point of the communication or the end point in the communication say, for example, if this computer wants to access www.eso.org ESO on this device, this switch is the buyer willing, but communication can happen through this intermediary devices. Similarly, if this mode phone also wants to get some data from naso Academy dot, hua ji, this can also give the request, but this request can be carried out either this way or this way. But if you observing both events, they are wireless, so the same server can be accessed with the help of wires, as well as with the will both wireless. Now. The important point to note about a computer network is that it is mainly used for research re. A computer network is mainly used for resource sharing, say there are four computers here. If all four computers wants a printer, it is definitely not an ideal solution to purchase four printers for all computers. Think of the scenario this way I have brought in a printer and have connected this printer to my network. Now all these four computers can use this printer so thus networks save a lot of infrastructure cost as well, and there is an interesting scenario for you. You have to find out what, on the end, device is used in the scenario and what are the intermediary devices after finding out all the end devices and the intermediary devices just list it out like this on your paper, so I am showing this scenario for you. Please take a piece of paper and note down all the N devices and intermediary devices. Please pause this video for a while and carry out this task once done. You compare this with the actual result. Now, if your result is matching with this result, congratulations to you! You are progressing in the right direction. If not no problem guys, we are in the initial stage. It will take some lectures to understand the details about networking upon this completion of this lecture. The learner will be able to understand what is computer network and given a scenario, the learner will be able to identify what are n devices and water intermediary devices. I hope you are all very clear with the definition of a computer network. It is a set of nodes connected by communication links where that link can be a wired link or a wireless link. The devices which are the source or the destination in the communication are called as n devices the devices which forwards the data from one side to another side. They are called as intermediary devices. Thank you for watching [Applause] [Music].\n"
          ],
          "name": "stdout"
        }
      ]
    },
    {
      "cell_type": "code",
      "metadata": {
        "colab": {
          "base_uri": "https://localhost:8080/",
          "height": 257,
          "referenced_widgets": [
            "8ac2a9fd8e3040369c925de4298074d3",
            "30ec41a08b2d411395f685df650c33a2",
            "4f9e9fa8b7424bdab92da57b481a50c9",
            "b55fb66293d745b5b537ca8f51fdad47",
            "3d5e89a625204b0cb61aed16f6ea9fb9",
            "4dcb90e3ef734a3e90f1c6a755cd29a9",
            "f9e66b5e4bc04aac892eb679e1e0a4e0",
            "e78153168cf74fa9968592058ba3b46c",
            "8e3b7f7ea451413ab3f00423937c6990",
            "f400ac5a11664e58a49062248efd080b",
            "554912caa29043dfa76ca5cb07b4b883",
            "1da21441faf24372a62a958b6e155721",
            "b71dd21258b640c584fea3ba1466d310",
            "4b6e57ebd3024ace98e830ed0c9b75f4",
            "8f69793b0e2743e6af1067887447bca7",
            "f7045ce962d44114b6217ad5b2a2034e",
            "03304c6131df4906a136f78e3f0d2c39",
            "33d8a00b6ec94ad29f2512c7ee367abb",
            "7e40e2408e104bf58a695172f19079fe",
            "cc4a4d4db334499d9302ae3fc6c7c692",
            "8c7ebac82fb440509871ce269c832e16",
            "d2aa5af560af489d94e1a1776809b36c",
            "a82609b983b841ce85329a85c7cba62c",
            "3c96c56141f1494b9ab0d373683a70b2",
            "f0d1e0e5d9c4439bba025da0bc6b8bee",
            "91a347a260bd407796d21492f67c9938",
            "06488c5a67b14e6e86900a8a961d33e8",
            "079c55bcf25343f8825a3f40b729c8b5",
            "e0ee2dc00a9e4866a1a158e24b3d6d8f",
            "1cb57c20bd8145a483761cc356492827",
            "fecb111c349e467e9dbdf90b750aa0f2",
            "3c33933d18b64131ba03623e154752a2"
          ]
        },
        "id": "xcOlZ1RNQh7-",
        "outputId": "5fae0f0a-9927-4844-dde1-b1feea26d761"
      },
      "source": [
        "from summarizer import Summarizer\n",
        "model = Summarizer()\n",
        "result = model(text_to_summ, min_length=30,max_length=300)\n",
        "summary = \"\".join(result)\n",
        "print(summary)"
      ],
      "execution_count": null,
      "outputs": [
        {
          "output_type": "display_data",
          "data": {
            "application/vnd.jupyter.widget-view+json": {
              "model_id": "8ac2a9fd8e3040369c925de4298074d3",
              "version_minor": 0,
              "version_major": 2
            },
            "text/plain": [
              "HBox(children=(FloatProgress(value=0.0, description='Downloading', max=1344997306.0, style=ProgressStyle(descr…"
            ]
          },
          "metadata": {
            "tags": []
          }
        },
        {
          "output_type": "stream",
          "text": [
            "\n"
          ],
          "name": "stdout"
        },
        {
          "output_type": "display_data",
          "data": {
            "application/vnd.jupyter.widget-view+json": {
              "model_id": "8e3b7f7ea451413ab3f00423937c6990",
              "version_minor": 0,
              "version_major": 2
            },
            "text/plain": [
              "HBox(children=(FloatProgress(value=0.0, description='Downloading', max=231508.0, style=ProgressStyle(descripti…"
            ]
          },
          "metadata": {
            "tags": []
          }
        },
        {
          "output_type": "stream",
          "text": [
            "\n"
          ],
          "name": "stdout"
        },
        {
          "output_type": "display_data",
          "data": {
            "application/vnd.jupyter.widget-view+json": {
              "model_id": "03304c6131df4906a136f78e3f0d2c39",
              "version_minor": 0,
              "version_major": 2
            },
            "text/plain": [
              "HBox(children=(FloatProgress(value=0.0, description='Downloading', max=28.0, style=ProgressStyle(description_w…"
            ]
          },
          "metadata": {
            "tags": []
          }
        },
        {
          "output_type": "stream",
          "text": [
            "\n"
          ],
          "name": "stdout"
        },
        {
          "output_type": "display_data",
          "data": {
            "application/vnd.jupyter.widget-view+json": {
              "model_id": "f0d1e0e5d9c4439bba025da0bc6b8bee",
              "version_minor": 0,
              "version_major": 2
            },
            "text/plain": [
              "HBox(children=(FloatProgress(value=0.0, description='Downloading', max=466062.0, style=ProgressStyle(descripti…"
            ]
          },
          "metadata": {
            "tags": []
          }
        },
        {
          "output_type": "stream",
          "text": [
            "\n",
            "Hello, everyone I welcome you all to this wonderful course on computer networks. I am your instructor here to take you throughout this journey on computer networks. This course will surely help the students to crack networking based interviews. Network supports the very work? Yes, one can work from home by accessing the files and softwares actually available in the company and network supports the way we played to talking about the pedagogy. Now, obviously, a cable is a physical medium, so it comes under wired category. This is possible through wireless technologies. So this is a perfect example of a sample computer network. The smartphone is a node cell phone tower is a node. Similarly, if this mode phone also wants to get some data from naso Academy dot, hua ji, this can also give the request, but this request can be carried out either this way or this way. If all four computers wants a printer, it is definitely not an ideal solution to purchase four printers for all computers. Think of the scenario this way I have brought in a printer and have connected this printer to my network. You have to find out what, on the end, device is used in the scenario and what are the intermediary devices after finding out all the end devices and the intermediary devices just list it out like this on your paper, so I am showing this scenario for you. You are progressing in the right direction. If not no problem guys, we are in the initial stage.\n"
          ],
          "name": "stdout"
        }
      ]
    },
    {
      "cell_type": "code",
      "metadata": {
        "colab": {
          "base_uri": "https://localhost:8080/"
        },
        "id": "PbOswvp9Q9Iu",
        "outputId": "e02efef7-7f4c-4f2b-a957-391acda547de"
      },
      "source": [
        "result1 = model(text_to_summ, min_length=30,max_length=50)\n",
        "summary1 = \"\".join(result1)\n",
        "print(summary1)"
      ],
      "execution_count": null,
      "outputs": [
        {
          "output_type": "stream",
          "text": [
            "Think of an example mobile application. Network supports the very work? They are the key words of this definition.\n"
          ],
          "name": "stdout"
        }
      ]
    },
    {
      "cell_type": "code",
      "metadata": {
        "colab": {
          "base_uri": "https://localhost:8080/"
        },
        "id": "OocDI2MWRzBP",
        "outputId": "05d9b9f4-309e-4819-d825-d43d32511eaa"
      },
      "source": [
        "result2 = model(text_to_summ, min_length=30,max_length=100)\n",
        "summary2 = \"\".join(result2)\n",
        "print(summary2)"
      ],
      "execution_count": null,
      "outputs": [
        {
          "output_type": "stream",
          "text": [
            "Hello, everyone I welcome you all to this wonderful course on computer networks. I am your instructor here to take you throughout this journey on computer networks. Network supports the very work? We need to understand the theoretical background of all the concepts. We will be dealing about switches, bridges and routers in the upcoming lectures. A communication link can be a wired link. In this case there is no physical connectivity, then how can be that communication be established? So this is a perfect example of a sample computer network. The smartphone is a node cell phone tower is a node.\n"
          ],
          "name": "stdout"
        }
      ]
    },
    {
      "cell_type": "code",
      "metadata": {
        "id": "dW1g45fElKxI"
      },
      "source": [
        "from sklearn.feature_extraction.text import CountVectorizer\n",
        "\n",
        "n_gram_range = (3,3)\n",
        "stop_words = \"english\"\n",
        "\n",
        "# Extract candidate words/phrases\n",
        "count = CountVectorizer(ngram_range=n_gram_range, stop_words=stop_words).fit([text_to_summ])\n",
        "candidates = count.get_feature_names()"
      ],
      "execution_count": null,
      "outputs": []
    },
    {
      "cell_type": "code",
      "metadata": {
        "id": "uGkUHT5umQ0W",
        "colab": {
          "base_uri": "https://localhost:8080/"
        },
        "outputId": "077964c8-93a7-416d-82da-67ebebdffa1e"
      },
      "source": [
        "!pip install sentence-transformers"
      ],
      "execution_count": null,
      "outputs": [
        {
          "output_type": "stream",
          "text": [
            "Collecting sentence-transformers\n",
            "\u001b[?25l  Downloading https://files.pythonhosted.org/packages/6f/4d/9fb1028b0b4645c77401417151d06122d745c7a874fda6a4d5e6bb7bebc6/sentence-transformers-1.0.3.tar.gz (74kB)\n",
            "\r\u001b[K     |████▍                           | 10kB 13.9MB/s eta 0:00:01\r\u001b[K     |████████▊                       | 20kB 13.8MB/s eta 0:00:01\r\u001b[K     |█████████████▏                  | 30kB 9.3MB/s eta 0:00:01\r\u001b[K     |█████████████████▌              | 40kB 8.0MB/s eta 0:00:01\r\u001b[K     |█████████████████████▉          | 51kB 5.0MB/s eta 0:00:01\r\u001b[K     |██████████████████████████▎     | 61kB 5.7MB/s eta 0:00:01\r\u001b[K     |██████████████████████████████▋ | 71kB 5.8MB/s eta 0:00:01\r\u001b[K     |████████████████████████████████| 81kB 3.4MB/s \n",
            "\u001b[?25hRequirement already satisfied: transformers<5.0.0,>=3.1.0 in /usr/local/lib/python3.7/dist-packages (from sentence-transformers) (4.4.2)\n",
            "Requirement already satisfied: tqdm in /usr/local/lib/python3.7/dist-packages (from sentence-transformers) (4.41.1)\n",
            "Requirement already satisfied: torch>=1.6.0 in /usr/local/lib/python3.7/dist-packages (from sentence-transformers) (1.8.0+cu101)\n",
            "Requirement already satisfied: numpy in /usr/local/lib/python3.7/dist-packages (from sentence-transformers) (1.19.5)\n",
            "Requirement already satisfied: scikit-learn in /usr/local/lib/python3.7/dist-packages (from sentence-transformers) (0.22.2.post1)\n",
            "Requirement already satisfied: scipy in /usr/local/lib/python3.7/dist-packages (from sentence-transformers) (1.4.1)\n",
            "Requirement already satisfied: nltk in /usr/local/lib/python3.7/dist-packages (from sentence-transformers) (3.5)\n",
            "Collecting sentencepiece\n",
            "\u001b[?25l  Downloading https://files.pythonhosted.org/packages/f5/99/e0808cb947ba10f575839c43e8fafc9cc44e4a7a2c8f79c60db48220a577/sentencepiece-0.1.95-cp37-cp37m-manylinux2014_x86_64.whl (1.2MB)\n",
            "\u001b[K     |████████████████████████████████| 1.2MB 6.3MB/s \n",
            "\u001b[?25hRequirement already satisfied: tokenizers<0.11,>=0.10.1 in /usr/local/lib/python3.7/dist-packages (from transformers<5.0.0,>=3.1.0->sentence-transformers) (0.10.1)\n",
            "Requirement already satisfied: filelock in /usr/local/lib/python3.7/dist-packages (from transformers<5.0.0,>=3.1.0->sentence-transformers) (3.0.12)\n",
            "Requirement already satisfied: regex!=2019.12.17 in /usr/local/lib/python3.7/dist-packages (from transformers<5.0.0,>=3.1.0->sentence-transformers) (2019.12.20)\n",
            "Requirement already satisfied: sacremoses in /usr/local/lib/python3.7/dist-packages (from transformers<5.0.0,>=3.1.0->sentence-transformers) (0.0.43)\n",
            "Requirement already satisfied: packaging in /usr/local/lib/python3.7/dist-packages (from transformers<5.0.0,>=3.1.0->sentence-transformers) (20.9)\n",
            "Requirement already satisfied: importlib-metadata; python_version < \"3.8\" in /usr/local/lib/python3.7/dist-packages (from transformers<5.0.0,>=3.1.0->sentence-transformers) (3.7.2)\n",
            "Requirement already satisfied: requests in /usr/local/lib/python3.7/dist-packages (from transformers<5.0.0,>=3.1.0->sentence-transformers) (2.23.0)\n",
            "Requirement already satisfied: typing-extensions in /usr/local/lib/python3.7/dist-packages (from torch>=1.6.0->sentence-transformers) (3.7.4.3)\n",
            "Requirement already satisfied: joblib>=0.11 in /usr/local/lib/python3.7/dist-packages (from scikit-learn->sentence-transformers) (1.0.1)\n",
            "Requirement already satisfied: click in /usr/local/lib/python3.7/dist-packages (from nltk->sentence-transformers) (7.1.2)\n",
            "Requirement already satisfied: six in /usr/local/lib/python3.7/dist-packages (from sacremoses->transformers<5.0.0,>=3.1.0->sentence-transformers) (1.15.0)\n",
            "Requirement already satisfied: pyparsing>=2.0.2 in /usr/local/lib/python3.7/dist-packages (from packaging->transformers<5.0.0,>=3.1.0->sentence-transformers) (2.4.7)\n",
            "Requirement already satisfied: zipp>=0.5 in /usr/local/lib/python3.7/dist-packages (from importlib-metadata; python_version < \"3.8\"->transformers<5.0.0,>=3.1.0->sentence-transformers) (3.4.1)\n",
            "Requirement already satisfied: certifi>=2017.4.17 in /usr/local/lib/python3.7/dist-packages (from requests->transformers<5.0.0,>=3.1.0->sentence-transformers) (2020.12.5)\n",
            "Requirement already satisfied: idna<3,>=2.5 in /usr/local/lib/python3.7/dist-packages (from requests->transformers<5.0.0,>=3.1.0->sentence-transformers) (2.10)\n",
            "Requirement already satisfied: urllib3!=1.25.0,!=1.25.1,<1.26,>=1.21.1 in /usr/local/lib/python3.7/dist-packages (from requests->transformers<5.0.0,>=3.1.0->sentence-transformers) (1.24.3)\n",
            "Requirement already satisfied: chardet<4,>=3.0.2 in /usr/local/lib/python3.7/dist-packages (from requests->transformers<5.0.0,>=3.1.0->sentence-transformers) (3.0.4)\n",
            "Building wheels for collected packages: sentence-transformers\n",
            "  Building wheel for sentence-transformers (setup.py) ... \u001b[?25l\u001b[?25hdone\n",
            "  Created wheel for sentence-transformers: filename=sentence_transformers-1.0.3-cp37-none-any.whl size=114277 sha256=ae4c96f7a8606c8b16b975ee0d689da16add42adc4ee5c0fc3f38056effa4414\n",
            "  Stored in directory: /root/.cache/pip/wheels/c8/0d/fa/4e28cf045da4781344e7972befb2fdf306051b225bfc290187\n",
            "Successfully built sentence-transformers\n",
            "Installing collected packages: sentencepiece, sentence-transformers\n",
            "Successfully installed sentence-transformers-1.0.3 sentencepiece-0.1.95\n"
          ],
          "name": "stdout"
        }
      ]
    },
    {
      "cell_type": "code",
      "metadata": {
        "id": "bj-S3i_fmdPM",
        "colab": {
          "base_uri": "https://localhost:8080/",
          "height": 67,
          "referenced_widgets": [
            "2c2b77ae8e7c4235a3cbfa03a523dac0",
            "11f12496ef5d4e01be73fee9796899dd",
            "7e474735de4d42b284297ae01f77ba88",
            "e31ca2d829de4a1281559ccb5c1931f5",
            "5961f38011b14c00a341724f1f3bddd4",
            "add05f10f4ef420bb98ca66a82bca8c5",
            "84804b63514348ca8ce51d9ae1cc1a8e",
            "a6106adf4ad141899e8126bdaac2a9e9"
          ]
        },
        "outputId": "aed90e4b-86e8-4f55-aa7c-4676239f5213"
      },
      "source": [
        "from sentence_transformers import SentenceTransformer\n",
        "\n",
        "model = SentenceTransformer('distilbert-base-nli-mean-tokens')\n",
        "doc_embedding = model.encode([text_to_summ])\n",
        "candidate_embeddings = model.encode(candidates)"
      ],
      "execution_count": null,
      "outputs": [
        {
          "output_type": "display_data",
          "data": {
            "application/vnd.jupyter.widget-view+json": {
              "model_id": "2c2b77ae8e7c4235a3cbfa03a523dac0",
              "version_minor": 0,
              "version_major": 2
            },
            "text/plain": [
              "HBox(children=(FloatProgress(value=0.0, max=244733649.0), HTML(value='')))"
            ]
          },
          "metadata": {
            "tags": []
          }
        },
        {
          "output_type": "stream",
          "text": [
            "\n"
          ],
          "name": "stdout"
        }
      ]
    },
    {
      "cell_type": "code",
      "metadata": {
        "colab": {
          "base_uri": "https://localhost:8080/"
        },
        "id": "PV4k5Pg9mpva",
        "outputId": "c23a0874-884c-4958-dd56-7e413aa8fc1d"
      },
      "source": [
        "from sklearn.metrics.pairwise import cosine_similarity\n",
        "\n",
        "top_n = 5\n",
        "distances = cosine_similarity(doc_embedding, candidate_embeddings)\n",
        "keywords = [candidates[index] for index in distances.argsort()[0][-top_n:]]\n",
        "print(keywords)"
      ],
      "execution_count": null,
      "outputs": [
        {
          "output_type": "stream",
          "text": [
            "['networking course fundamentals', 'instructor journey computer', 'routers upcoming lectures', 'networking completion lecture', 'computer networks instructor']\n"
          ],
          "name": "stdout"
        }
      ]
    },
    {
      "cell_type": "code",
      "metadata": {
        "colab": {
          "base_uri": "https://localhost:8080/"
        },
        "id": "DYHtMu-cm3g1",
        "outputId": "72bd89c5-d5de-412b-8c6b-3414e59e308e"
      },
      "source": [
        "!pip install keybert\n"
      ],
      "execution_count": null,
      "outputs": [
        {
          "output_type": "stream",
          "text": [
            "Collecting keybert\n",
            "  Downloading https://files.pythonhosted.org/packages/5d/f4/65853bfc2ded495af3341a3f8938f17799d15a65be0150cb57774e1fb59f/keybert-0.2.0.tar.gz\n",
            "Requirement already satisfied: sentence-transformers>=0.3.8 in /usr/local/lib/python3.7/dist-packages (from keybert) (1.0.3)\n",
            "Requirement already satisfied: scikit-learn>=0.22.2 in /usr/local/lib/python3.7/dist-packages (from keybert) (0.22.2.post1)\n",
            "Requirement already satisfied: numpy>=1.18.5 in /usr/local/lib/python3.7/dist-packages (from keybert) (1.19.5)\n",
            "Requirement already satisfied: transformers<5.0.0,>=3.1.0 in /usr/local/lib/python3.7/dist-packages (from sentence-transformers>=0.3.8->keybert) (4.4.2)\n",
            "Requirement already satisfied: sentencepiece in /usr/local/lib/python3.7/dist-packages (from sentence-transformers>=0.3.8->keybert) (0.1.95)\n",
            "Requirement already satisfied: torch>=1.6.0 in /usr/local/lib/python3.7/dist-packages (from sentence-transformers>=0.3.8->keybert) (1.8.0+cu101)\n",
            "Requirement already satisfied: nltk in /usr/local/lib/python3.7/dist-packages (from sentence-transformers>=0.3.8->keybert) (3.5)\n",
            "Requirement already satisfied: tqdm in /usr/local/lib/python3.7/dist-packages (from sentence-transformers>=0.3.8->keybert) (4.41.1)\n",
            "Requirement already satisfied: scipy in /usr/local/lib/python3.7/dist-packages (from sentence-transformers>=0.3.8->keybert) (1.4.1)\n",
            "Requirement already satisfied: joblib>=0.11 in /usr/local/lib/python3.7/dist-packages (from scikit-learn>=0.22.2->keybert) (1.0.1)\n",
            "Requirement already satisfied: tokenizers<0.11,>=0.10.1 in /usr/local/lib/python3.7/dist-packages (from transformers<5.0.0,>=3.1.0->sentence-transformers>=0.3.8->keybert) (0.10.1)\n",
            "Requirement already satisfied: importlib-metadata; python_version < \"3.8\" in /usr/local/lib/python3.7/dist-packages (from transformers<5.0.0,>=3.1.0->sentence-transformers>=0.3.8->keybert) (3.7.2)\n",
            "Requirement already satisfied: packaging in /usr/local/lib/python3.7/dist-packages (from transformers<5.0.0,>=3.1.0->sentence-transformers>=0.3.8->keybert) (20.9)\n",
            "Requirement already satisfied: sacremoses in /usr/local/lib/python3.7/dist-packages (from transformers<5.0.0,>=3.1.0->sentence-transformers>=0.3.8->keybert) (0.0.43)\n",
            "Requirement already satisfied: requests in /usr/local/lib/python3.7/dist-packages (from transformers<5.0.0,>=3.1.0->sentence-transformers>=0.3.8->keybert) (2.23.0)\n",
            "Requirement already satisfied: filelock in /usr/local/lib/python3.7/dist-packages (from transformers<5.0.0,>=3.1.0->sentence-transformers>=0.3.8->keybert) (3.0.12)\n",
            "Requirement already satisfied: regex!=2019.12.17 in /usr/local/lib/python3.7/dist-packages (from transformers<5.0.0,>=3.1.0->sentence-transformers>=0.3.8->keybert) (2019.12.20)\n",
            "Requirement already satisfied: typing-extensions in /usr/local/lib/python3.7/dist-packages (from torch>=1.6.0->sentence-transformers>=0.3.8->keybert) (3.7.4.3)\n",
            "Requirement already satisfied: click in /usr/local/lib/python3.7/dist-packages (from nltk->sentence-transformers>=0.3.8->keybert) (7.1.2)\n",
            "Requirement already satisfied: zipp>=0.5 in /usr/local/lib/python3.7/dist-packages (from importlib-metadata; python_version < \"3.8\"->transformers<5.0.0,>=3.1.0->sentence-transformers>=0.3.8->keybert) (3.4.1)\n",
            "Requirement already satisfied: pyparsing>=2.0.2 in /usr/local/lib/python3.7/dist-packages (from packaging->transformers<5.0.0,>=3.1.0->sentence-transformers>=0.3.8->keybert) (2.4.7)\n",
            "Requirement already satisfied: six in /usr/local/lib/python3.7/dist-packages (from sacremoses->transformers<5.0.0,>=3.1.0->sentence-transformers>=0.3.8->keybert) (1.15.0)\n",
            "Requirement already satisfied: idna<3,>=2.5 in /usr/local/lib/python3.7/dist-packages (from requests->transformers<5.0.0,>=3.1.0->sentence-transformers>=0.3.8->keybert) (2.10)\n",
            "Requirement already satisfied: certifi>=2017.4.17 in /usr/local/lib/python3.7/dist-packages (from requests->transformers<5.0.0,>=3.1.0->sentence-transformers>=0.3.8->keybert) (2020.12.5)\n",
            "Requirement already satisfied: chardet<4,>=3.0.2 in /usr/local/lib/python3.7/dist-packages (from requests->transformers<5.0.0,>=3.1.0->sentence-transformers>=0.3.8->keybert) (3.0.4)\n",
            "Requirement already satisfied: urllib3!=1.25.0,!=1.25.1,<1.26,>=1.21.1 in /usr/local/lib/python3.7/dist-packages (from requests->transformers<5.0.0,>=3.1.0->sentence-transformers>=0.3.8->keybert) (1.24.3)\n",
            "Building wheels for collected packages: keybert\n",
            "  Building wheel for keybert (setup.py) ... \u001b[?25l\u001b[?25hdone\n",
            "  Created wheel for keybert: filename=keybert-0.2.0-cp37-none-any.whl size=10599 sha256=2504e7b82cc796a3f97137903ca1e562303ed9bc6293d2cb51013d515d1a6b4c\n",
            "  Stored in directory: /root/.cache/pip/wheels/59/d7/16/04bab6677a4dfa9fd8ab2b350bac915d60f5378b83d6f5a372\n",
            "Successfully built keybert\n",
            "Installing collected packages: keybert\n",
            "Successfully installed keybert-0.2.0\n"
          ],
          "name": "stdout"
        }
      ]
    },
    {
      "cell_type": "code",
      "metadata": {
        "id": "jQYb6D-cng9F"
      },
      "source": [
        "from keybert import KeyBERT\n",
        "\n",
        "model_k = KeyBERT('distilbert-base-nli-mean-tokens')\n",
        "keywords = model_k.extract_keywords(text_to_summ)"
      ],
      "execution_count": null,
      "outputs": []
    },
    {
      "cell_type": "code",
      "metadata": {
        "colab": {
          "base_uri": "https://localhost:8080/"
        },
        "id": "H8LKkBhynwak",
        "outputId": "4a15900f-86c8-4019-c2f3-69378164de3b"
      },
      "source": [
        "model_k.extract_keywords(text_to_summ, keyphrase_ngram_range=(1, 1), stop_words=None)"
      ],
      "execution_count": null,
      "outputs": [
        {
          "output_type": "execute_result",
          "data": {
            "text/plain": [
              "[('teaching', 0.1462),\n",
              " ('internet', 0.1399),\n",
              " ('networking', 0.1348),\n",
              " ('instructor', 0.1324),\n",
              " ('exams', 0.1202)]"
            ]
          },
          "metadata": {
            "tags": []
          },
          "execution_count": 36
        }
      ]
    },
    {
      "cell_type": "code",
      "metadata": {
        "colab": {
          "base_uri": "https://localhost:8080/"
        },
        "id": "gmE5pXDDp4Rv",
        "outputId": "bdb2b303-ebe5-44ac-abf5-605bc892ec20"
      },
      "source": [
        "model_k.extract_keywords(text_to_summ, keyphrase_ngram_range=(1, 2), stop_words=None)"
      ],
      "execution_count": null,
      "outputs": [
        {
          "output_type": "execute_result",
          "data": {
            "text/plain": [
              "[('upcoming lectures', 0.3983),\n",
              " ('networking course', 0.2894),\n",
              " ('today lecture', 0.2811),\n",
              " ('computer networking', 0.2648),\n",
              " ('networking technologies', 0.2595)]"
            ]
          },
          "metadata": {
            "tags": []
          },
          "execution_count": 37
        }
      ]
    },
    {
      "cell_type": "code",
      "metadata": {
        "colab": {
          "base_uri": "https://localhost:8080/"
        },
        "id": "SqZwTNexp_BU",
        "outputId": "6dfbff15-fecb-4492-cbf0-b583348ebd12"
      },
      "source": [
        " model_k.extract_keywords(text_to_summ, keyphrase_ngram_range=(3, 3), stop_words='english', use_maxsum=True, nr_candidates=20, top_n=5)"
      ],
      "execution_count": null,
      "outputs": [
        {
          "output_type": "execute_result",
          "data": {
            "text/plain": [
              "[('outcomes today lecture', 0.0094),\n",
              " ('server printer security', 0.1878),\n",
              " ('interviews course prerequisite', 0.1088),\n",
              " ('learning tools cisco', 0.3358),\n",
              " ('students crack networking', 0.0628)]"
            ]
          },
          "metadata": {
            "tags": []
          },
          "execution_count": 38
        }
      ]
    },
    {
      "cell_type": "code",
      "metadata": {
        "colab": {
          "base_uri": "https://localhost:8080/"
        },
        "id": "hYYmmM8ZqPv8",
        "outputId": "1c2b9e70-c8ad-46d1-e4ec-b782edf91ee4"
      },
      "source": [
        "model_k.extract_keywords(text_to_summ, keyphrase_ngram_range=(3, 3), stop_words='english', \n",
        "                           use_mmr=True, diversity=0.7)"
      ],
      "execution_count": null,
      "outputs": [
        {
          "output_type": "execute_result",
          "data": {
            "text/plain": [
              "[('computer networks instructor', 0.5858),\n",
              " ('example involves lots', -0.0649),\n",
              " ('upcoming lectures nodes', 0.4452),\n",
              " ('tablet node smartphone', 0.1919),\n",
              " ('useful students preparing', 0.2651)]"
            ]
          },
          "metadata": {
            "tags": []
          },
          "execution_count": 39
        }
      ]
    },
    {
      "cell_type": "code",
      "metadata": {
        "colab": {
          "base_uri": "https://localhost:8080/"
        },
        "id": "Vt88UvRfqXBF",
        "outputId": "9c001566-29ba-468a-88dc-6c2ab63beb28"
      },
      "source": [
        "model_k.extract_keywords(text_to_summ, keyphrase_ngram_range=(3, 3), stop_words='english', \n",
        "                           use_mmr=True, diversity=0.2)"
      ],
      "execution_count": null,
      "outputs": [
        {
          "output_type": "execute_result",
          "data": {
            "text/plain": [
              "[('computer networks instructor', 0.5858),\n",
              " ('networking completion lecture', 0.5737),\n",
              " ('routers upcoming lectures', 0.5238),\n",
              " ('networking course fundamentals', 0.4787),\n",
              " ('instructor journey computer', 0.4833)]"
            ]
          },
          "metadata": {
            "tags": []
          },
          "execution_count": 40
        }
      ]
    },
    {
      "cell_type": "code",
      "metadata": {
        "id": "MBt-bJQQqcs1"
      },
      "source": [
        "def word2vec(word):\n",
        "    from collections import Counter\n",
        "    from math import sqrt\n",
        "\n",
        "    # count the characters in word\n",
        "    cw = Counter(word)\n",
        "    # precomputes a set of the different characters\n",
        "    sw = set(cw)\n",
        "    # precomputes the \"length\" of the word vector\n",
        "    lw = sqrt(sum(c*c for c in cw.values()))\n",
        "\n",
        "    # return a tuple\n",
        "    return cw, sw, lw\n",
        "\n",
        "def cosdis(v1, v2):\n",
        "    # which characters are common to the two words?\n",
        "    common = v1[1].intersection(v2[1])\n",
        "    # by definition of cosine distance we have\n",
        "    return sum(v1[0][ch]*v2[0][ch] for ch in common)/v1[2]/v2[2]"
      ],
      "execution_count": null,
      "outputs": []
    },
    {
      "cell_type": "code",
      "metadata": {
        "id": "ytxdxl28gzSW"
      },
      "source": [
        "va = word2vec(\"networking\")\n"
      ],
      "execution_count": null,
      "outputs": []
    },
    {
      "cell_type": "code",
      "metadata": {
        "colab": {
          "base_uri": "https://localhost:8080/"
        },
        "id": "noHDUBHmhBv5",
        "outputId": "16457bd6-61b1-4698-c021-4166286396f1"
      },
      "source": [
        "import urllib.request\n",
        "import json\n",
        "import urllib\n",
        "\n",
        "#change to yours VideoID or change url inparams\n",
        "VideoID = \"VwN91x5i25g\" \n",
        "\n",
        "params = {\"format\": \"json\", \"url\": \"https://www.youtube.com/watch?v=%s\" % VideoID}\n",
        "url = \"https://www.youtube.com/oembed\"\n",
        "query_string = urllib.parse.urlencode(params)\n",
        "url = url + \"?\" + query_string\n",
        "b = \"\"\n",
        "with urllib.request.urlopen(url) as response:\n",
        "    response_text = response.read()\n",
        "    data = json.loads(response_text.decode())\n",
        "    print(data['title'])\n",
        "    b = data['title']\n",
        "vb = word2vec(b)\n"
      ],
      "execution_count": null,
      "outputs": [
        {
          "output_type": "stream",
          "text": [
            "Introduction to Computer Networks\n"
          ],
          "name": "stdout"
        }
      ]
    },
    {
      "cell_type": "code",
      "metadata": {
        "colab": {
          "base_uri": "https://localhost:8080/"
        },
        "id": "ujBJkuWNhjAB",
        "outputId": "b7662686-0250-42e8-8dea-1d3ff843f158"
      },
      "source": [
        "print (cosdis(va,vb))"
      ],
      "execution_count": null,
      "outputs": [
        {
          "output_type": "stream",
          "text": [
            "0.6657502859356826\n"
          ],
          "name": "stdout"
        }
      ]
    },
    {
      "cell_type": "code",
      "metadata": {
        "colab": {
          "base_uri": "https://localhost:8080/"
        },
        "id": "CMjMoWhtHhBX",
        "outputId": "7418064d-5bdc-4429-ed4a-95a612348d99"
      },
      "source": [
        "!pip install flask-ngrok\n",
        "!pip install werkzeug"
      ],
      "execution_count": null,
      "outputs": [
        {
          "output_type": "stream",
          "text": [
            "Collecting flask-ngrok\n",
            "  Downloading https://files.pythonhosted.org/packages/af/6c/f54cb686ad1129e27d125d182f90f52b32f284e6c8df58c1bae54fa1adbc/flask_ngrok-0.0.25-py3-none-any.whl\n",
            "Requirement already satisfied: Flask>=0.8 in /usr/local/lib/python3.7/dist-packages (from flask-ngrok) (1.1.2)\n",
            "Requirement already satisfied: requests in /usr/local/lib/python3.7/dist-packages (from flask-ngrok) (2.23.0)\n",
            "Requirement already satisfied: itsdangerous>=0.24 in /usr/local/lib/python3.7/dist-packages (from Flask>=0.8->flask-ngrok) (1.1.0)\n",
            "Requirement already satisfied: Werkzeug>=0.15 in /usr/local/lib/python3.7/dist-packages (from Flask>=0.8->flask-ngrok) (1.0.1)\n",
            "Requirement already satisfied: click>=5.1 in /usr/local/lib/python3.7/dist-packages (from Flask>=0.8->flask-ngrok) (7.1.2)\n",
            "Requirement already satisfied: Jinja2>=2.10.1 in /usr/local/lib/python3.7/dist-packages (from Flask>=0.8->flask-ngrok) (2.11.3)\n",
            "Requirement already satisfied: certifi>=2017.4.17 in /usr/local/lib/python3.7/dist-packages (from requests->flask-ngrok) (2020.12.5)\n",
            "Requirement already satisfied: idna<3,>=2.5 in /usr/local/lib/python3.7/dist-packages (from requests->flask-ngrok) (2.10)\n",
            "Requirement already satisfied: urllib3!=1.25.0,!=1.25.1,<1.26,>=1.21.1 in /usr/local/lib/python3.7/dist-packages (from requests->flask-ngrok) (1.24.3)\n",
            "Requirement already satisfied: chardet<4,>=3.0.2 in /usr/local/lib/python3.7/dist-packages (from requests->flask-ngrok) (3.0.4)\n",
            "Requirement already satisfied: MarkupSafe>=0.23 in /usr/local/lib/python3.7/dist-packages (from Jinja2>=2.10.1->Flask>=0.8->flask-ngrok) (1.1.1)\n",
            "Installing collected packages: flask-ngrok\n",
            "Successfully installed flask-ngrok-0.0.25\n",
            "Requirement already satisfied: werkzeug in /usr/local/lib/python3.7/dist-packages (1.0.1)\n"
          ],
          "name": "stdout"
        }
      ]
    },
    {
      "cell_type": "code",
      "metadata": {
        "colab": {
          "base_uri": "https://localhost:8080/"
        },
        "id": "NDqV0xTyO7WB",
        "outputId": "1e1bafdc-9e4e-4ba7-89fa-78fbbc0a23ff"
      },
      "source": [
        "!pip install moviepy\n",
        "!pip3 install SpeechRecognition pydub\n",
        "import moviepy.editor\n",
        "import os\n",
        "import speech_recognition as sr\n",
        "from pydub import AudioSegment\n",
        "from pydub.silence import split_on_silence"
      ],
      "execution_count": null,
      "outputs": [
        {
          "output_type": "stream",
          "text": [
            "Requirement already satisfied: moviepy in /usr/local/lib/python3.7/dist-packages (0.2.3.5)\n",
            "Requirement already satisfied: tqdm<5.0,>=4.11.2 in /usr/local/lib/python3.7/dist-packages (from moviepy) (4.41.1)\n",
            "Requirement already satisfied: imageio<3.0,>=2.1.2 in /usr/local/lib/python3.7/dist-packages (from moviepy) (2.4.1)\n",
            "Requirement already satisfied: numpy in /usr/local/lib/python3.7/dist-packages (from moviepy) (1.19.5)\n",
            "Requirement already satisfied: decorator<5.0,>=4.0.2 in /usr/local/lib/python3.7/dist-packages (from moviepy) (4.4.2)\n",
            "Requirement already satisfied: pillow in /usr/local/lib/python3.7/dist-packages (from imageio<3.0,>=2.1.2->moviepy) (7.0.0)\n",
            "Collecting SpeechRecognition\n",
            "\u001b[?25l  Downloading https://files.pythonhosted.org/packages/26/e1/7f5678cd94ec1234269d23756dbdaa4c8cfaed973412f88ae8adf7893a50/SpeechRecognition-3.8.1-py2.py3-none-any.whl (32.8MB)\n",
            "\u001b[K     |████████████████████████████████| 32.8MB 116kB/s \n",
            "\u001b[?25hCollecting pydub\n",
            "  Downloading https://files.pythonhosted.org/packages/a6/53/d78dc063216e62fc55f6b2eebb447f6a4b0a59f55c8406376f76bf959b08/pydub-0.25.1-py2.py3-none-any.whl\n",
            "Installing collected packages: SpeechRecognition, pydub\n",
            "Successfully installed SpeechRecognition-3.8.1 pydub-0.25.1\n",
            "Imageio: 'ffmpeg-linux64-v3.3.1' was not found on your computer; downloading it now.\n",
            "Try 1. Download from https://github.com/imageio/imageio-binaries/raw/master/ffmpeg/ffmpeg-linux64-v3.3.1 (43.8 MB)\n",
            "Downloading: 8192/45929032 bytes (0.0%)\b\b\b\b\b\b\b\b\b\b\b\b\b\b\b\b\b\b\b\b\b\b\b\b\b\b2318336/45929032 bytes (5.0%)\b\b\b\b\b\b\b\b\b\b\b\b\b\b\b\b\b\b\b\b\b\b\b\b\b\b\b\b\b5570560/45929032 bytes (12.1%)\b\b\b\b\b\b\b\b\b\b\b\b\b\b\b\b\b\b\b\b\b\b\b\b\b\b\b\b\b\b8962048/45929032 bytes (19.5%)\b\b\b\b\b\b\b\b\b\b\b\b\b\b\b\b\b\b\b\b\b\b\b\b\b\b\b\b\b\b12197888/45929032 bytes (26.6%)\b\b\b\b\b\b\b\b\b\b\b\b\b\b\b\b\b\b\b\b\b\b\b\b\b\b\b\b\b\b\b15867904/45929032 bytes (34.5%)\b\b\b\b\b\b\b\b\b\b\b\b\b\b\b\b\b\b\b\b\b\b\b\b\b\b\b\b\b\b\b19193856/45929032 bytes (41.8%)\b\b\b\b\b\b\b\b\b\b\b\b\b\b\b\b\b\b\b\b\b\b\b\b\b\b\b\b\b\b\b22446080/45929032 bytes (48.9%)\b\b\b\b\b\b\b\b\b\b\b\b\b\b\b\b\b\b\b\b\b\b\b\b\b\b\b\b\b\b\b25616384/45929032 bytes (55.8%)\b\b\b\b\b\b\b\b\b\b\b\b\b\b\b\b\b\b\b\b\b\b\b\b\b\b\b\b\b\b\b29171712/45929032 bytes (63.5%)\b\b\b\b\b\b\b\b\b\b\b\b\b\b\b\b\b\b\b\b\b\b\b\b\b\b\b\b\b\b\b32702464/45929032 bytes (71.2%)\b\b\b\b\b\b\b\b\b\b\b\b\b\b\b\b\b\b\b\b\b\b\b\b\b\b\b\b\b\b\b36282368/45929032 bytes (79.0%)\b\b\b\b\b\b\b\b\b\b\b\b\b\b\b\b\b\b\b\b\b\b\b\b\b\b\b\b\b\b\b39337984/45929032 bytes (85.6%)\b\b\b\b\b\b\b\b\b\b\b\b\b\b\b\b\b\b\b\b\b\b\b\b\b\b\b\b\b\b\b42876928/45929032 bytes (93.4%)\b\b\b\b\b\b\b\b\b\b\b\b\b\b\b\b\b\b\b\b\b\b\b\b\b\b\b\b\b\b\b45929032/45929032 bytes (100.0%)\n",
            "  Done\n",
            "File saved as /root/.imageio/ffmpeg/ffmpeg-linux64-v3.3.1.\n"
          ],
          "name": "stdout"
        }
      ]
    },
    {
      "cell_type": "code",
      "metadata": {
        "id": "90MSlZbWUJ4s"
      },
      "source": [
        "def get_puncuation(txt_formatted): \n",
        "  text_to_summ = p.punctuate(txt_formatted)\n",
        "  print(text_to_summ)\n",
        "  return text_to_summ "
      ],
      "execution_count": null,
      "outputs": []
    },
    {
      "cell_type": "code",
      "metadata": {
        "id": "-BTu2FzBTXx7"
      },
      "source": [
        "def get_youtube_transcription(url):\n",
        "  url = url.split(\"=\")[1]\n",
        "  transcript = YouTubeTranscriptApi.get_transcript(url)\n",
        "  formatter = TextFormatter()\n",
        "  txt_formatted = formatter.format_transcript(transcript)\n",
        "  print(txt_formatted)\n",
        "  return txt_formatted \n"
      ],
      "execution_count": null,
      "outputs": []
    },
    {
      "cell_type": "code",
      "metadata": {
        "id": "ff_ys0xiTqqg"
      },
      "source": [
        "def get_summary(text_to_summ):\n",
        "  result = model(text_to_summ, min_length=30,max_length=300)\n",
        "  summary = \"\".join(result) \n",
        "  print(summary)\n",
        "  return summary"
      ],
      "execution_count": null,
      "outputs": []
    },
    {
      "cell_type": "code",
      "metadata": {
        "id": "qoSxZ8URfXbQ"
      },
      "source": [
        "def get_keywords(text_to_key):\n",
        "  norm = model_k.extract_keywords(text_to_key, keyphrase_ngram_range=(1, 2), stop_words=None)\n",
        "  maxsum = model_k.extract_keywords(text_to_key, keyphrase_ngram_range=(3, 3), stop_words='english', use_maxsum=True, nr_candidates=20, top_n=5)\n",
        "  maxdiv = model_k.extract_keywords(text_to_key, keyphrase_ngram_range=(3, 3), stop_words='english', use_mmr=True, diversity=0.4)\n",
        "  print(norm)\n",
        "  print(maxsum)\n",
        "  print(maxdiv)\n",
        "  return [norm,maxsum,maxdiv]"
      ],
      "execution_count": null,
      "outputs": []
    },
    {
      "cell_type": "code",
      "metadata": {
        "id": "PAwcuAE4rjDk"
      },
      "source": [
        "def get_kwHyper(kw_hyper,urll):\n",
        "  kw = []\n",
        "  vid = urll.split(\"=\")[1]\n",
        "  for i in range(len(kw_hyper)):\n",
        "    kw.append(kw_hyper[i][0])\n",
        "  kw_with_time = {}\n",
        "  yt = YouTubeTranscriptApi.get_transcript(vid)\n",
        "  for i in yt:\n",
        "    for j in kw:\n",
        "      if j in i['text']:\n",
        "        kw_with_time.setdefault(j,[])\n",
        "        kw_with_time[j].append(str(int(i['start'])))\n",
        "  print(kw_with_time)\n",
        "  kw_t = []\n",
        "  for i in kw_with_time:\n",
        "    kw_t.append([i,kw_with_time[i][0]])\n",
        "  print(kw_t)\n",
        "  print(\"cmgdddddddddddddd\")\n",
        "  return kw_t\n",
        "\n"
      ],
      "execution_count": null,
      "outputs": []
    },
    {
      "cell_type": "code",
      "metadata": {
        "id": "_h0sf7CO1xbN"
      },
      "source": [
        "def get_title(urll):\n",
        "  params = {\"format\": \"json\", \"url\": urll}\n",
        "  url = \"https://www.youtube.com/oembed\"\n",
        "  query_string = urllib.parse.urlencode(params)\n",
        "  url = url + \"?\" + query_string\n",
        "  b = \"\"\n",
        "  with urllib.request.urlopen(url) as response:\n",
        "    response_text = response.read()\n",
        "    data = json.loads(response_text.decode())\n",
        "    print(data['title'])\n",
        "    return data['title']\n",
        " "
      ],
      "execution_count": null,
      "outputs": []
    },
    {
      "cell_type": "code",
      "metadata": {
        "id": "ARPtvcTZiLxO"
      },
      "source": [
        "def get_score(a,b):\n",
        "  cossim = 0\n",
        "  va = word2vec(a)\n",
        "  for i in b:\n",
        "    vb = word2vec(i[0])\n",
        "    cossim = max(cossim,cosdis(va,vb))\n",
        "  cossim*=100\n",
        "  return str(cossim)[:5]\n"
      ],
      "execution_count": null,
      "outputs": []
    },
    {
      "cell_type": "code",
      "metadata": {
        "id": "bRhA11ntPYVL"
      },
      "source": [
        "def convert_to_audio():\n",
        "  video=moviepy.editor.VideoFileClip('/content/BigData.mp4')\n",
        "  audio=video.audio\n",
        "  audio.write_audiofile('BigData.wav')\n",
        "r = sr.Recognizer()\n",
        " \n",
        "def get_audio_transcription(path):\n",
        "    \n",
        "    sound = AudioSegment.from_wav(path)  \n",
        "    chunks = split_on_silence(sound,min_silence_len = 500,silence_thresh = sound.dBFS-14,keep_silence=500,)\n",
        "    folder_name = \"audio-chunks\"\n",
        "    if not os.path.isdir(folder_name):\n",
        "        os.mkdir(folder_name)\n",
        "    whole_text = \"\"\n",
        "    print(path)\n",
        "  \n",
        "    for i, audio_chunk in enumerate(chunks, start=1):\n",
        "  \n",
        "        chunk_filename = os.path.join(folder_name, f\"chunk{i}.wav\")\n",
        "        audio_chunk.export(chunk_filename, format=\"wav\")\n",
        "        \n",
        "        with sr.AudioFile(chunk_filename) as source:\n",
        "            audio_listened = r.record(source)\n",
        "            try:\n",
        "                text = r.recognize_google(audio_listened)\n",
        "            except sr.UnknownValueError as e:\n",
        "                print(\"Error:\", str(e))\n",
        "            else:\n",
        "                text = f\"{text.capitalize()}. \"\n",
        "                print(chunk_filename, \":\", text)\n",
        "                whole_text += text\n",
        "\n",
        "    return whole_text"
      ],
      "execution_count": null,
      "outputs": []
    },
    {
      "cell_type": "code",
      "metadata": {
        "id": "1LNxojPNbc3O"
      },
      "source": [
        "from summarizer import Summarizer\n",
        "model = Summarizer()"
      ],
      "execution_count": null,
      "outputs": []
    },
    {
      "cell_type": "code",
      "metadata": {
        "colab": {
          "base_uri": "https://localhost:8080/"
        },
        "id": "7eJDcX5XNiqB",
        "outputId": "9eebb035-23b1-47c4-915a-8983fde60caa"
      },
      "source": [
        "from flask import redirect, render_template, request, session, url_for,Flask\n",
        "app = Flask(__name__)\n",
        "from werkzeug.utils import secure_filename\n",
        "from flask_ngrok import run_with_ngrok\n",
        "UPLOAD_FOLDER = \"/content\"\n",
        "ALLOWED_EXTENSIONS = {'mp4', 'wav',}\n",
        "app.config['UPLOAD_FOLDER'] = UPLOAD_FOLDER\n",
        "run_with_ngrok(app)\n",
        "def allowed_file(filename):\n",
        "    return '.' in filename and filename.rsplit('.', 1)[1].lower() in ALLOWED_EXTENSIONS\n",
        "\n",
        "@app.route(\"/\",methods =[\"GET\", \"POST\"])\n",
        "def home():\n",
        "    \n",
        "    get=\"global\"\n",
        "    if request.method == \"POST\":\n",
        "        print(request.form.get(\"url\"))\n",
        "        res={}\n",
        "        res[\"text\"]=\" \"\n",
        "        res[\"summary\"]=\" \"\n",
        "        res[\"keywords\"] = \"\"\n",
        "        res[\"score\"] = \"\"\n",
        "        res[\"title\"] = \"\"\n",
        "        res[\"link\"]=request.form.get(\"url\")\n",
        "        kw = []\n",
        "        if( res[\"link\"] == None):\n",
        "            file = request.files['file']\n",
        "            if file and allowed_file(file.filename):\n",
        "                filename = secure_filename(file.filename)\n",
        "                file.save(os.path.join(app.config['UPLOAD_FOLDER'], filename))\n",
        "                convert_to_audio()\n",
        "                final_text=get_audio_transcription('/content/BigData.wav')\n",
        "                res[\"text\"]=final_text\n",
        "                res[\"summary\"]=get_summary(res[\"text\"])\n",
        "                #res[\"keywords\"] = get_keywords(res[\"text\"])[1]\n",
        "                kw =  get_keywords(res[\"text\"])\n",
        "                #kw_for_hyper = get_kwHyper(kw[0])\n",
        "            return render_template( \"index.html\",res=res )\n",
        "        else:\n",
        "          \n",
        "          res[\"text\"]=get_youtube_transcription(res[\"link\"])\n",
        "          print(\"1234rr\")\n",
        "          res[\"text\"] = get_puncuation(res[\"text\"])\n",
        "          print(\"7890rr\")\n",
        "          res[\"summary\"]=get_summary(res[\"text\"])\n",
        "          # = get_keywords(res[\"text\"])[1]\n",
        "          kw =  get_keywords(res[\"text\"])\n",
        "          print(res[\"link\"])\n",
        "          temp=res[\"link\"]\n",
        "          temp=temp.replace(\"watch?v=\",\"embed/\")\n",
        "          res[\"embed_link\"]=temp\n",
        "          print(res[\"embed_link\"])\n",
        "          kw_for_hyper = get_kwHyper(kw[0],str(res[\"link\"]))\n",
        "          res[\"keyword\"]=kw_for_hyper\n",
        "          res[\"title\"] = get_title(str(res[\"link\"]))\n",
        "          res[\"score\"] = get_score(res[\"title\"],res[\"keyword\"])\n",
        "\n",
        "        return render_template(\"index.html\",res=res)\n",
        "    return render_template(\"index.html\",get=get)\n",
        "app.run()"
      ],
      "execution_count": null,
      "outputs": [
        {
          "output_type": "stream",
          "text": [
            " * Serving Flask app \"__main__\" (lazy loading)\n",
            " * Environment: production\n",
            "\u001b[31m   WARNING: This is a development server. Do not use it in a production deployment.\u001b[0m\n",
            "\u001b[2m   Use a production WSGI server instead.\u001b[0m\n",
            " * Debug mode: off\n"
          ],
          "name": "stdout"
        },
        {
          "output_type": "stream",
          "text": [
            "INFO:werkzeug: * Running on http://127.0.0.1:5000/ (Press CTRL+C to quit)\n"
          ],
          "name": "stderr"
        },
        {
          "output_type": "stream",
          "text": [
            " * Running on http://a09a4da17a6b.ngrok.io\n",
            " * Traffic stats available on http://127.0.0.1:4040\n"
          ],
          "name": "stdout"
        },
        {
          "output_type": "stream",
          "text": [
            "INFO:werkzeug:127.0.0.1 - - [25/Mar/2021 18:19:16] \"\u001b[37mGET / HTTP/1.1\u001b[0m\" 200 -\n",
            "INFO:werkzeug:127.0.0.1 - - [25/Mar/2021 18:19:17] \"\u001b[33mGET /css/template.css HTTP/1.1\u001b[0m\" 404 -\n",
            "INFO:werkzeug:127.0.0.1 - - [25/Mar/2021 18:19:18] \"\u001b[33mGET /favicon.ico HTTP/1.1\u001b[0m\" 404 -\n"
          ],
          "name": "stderr"
        },
        {
          "output_type": "stream",
          "text": [
            "https://www.youtube.com/watch?v=TB7qzDgX-pI\n"
          ],
          "name": "stdout"
        },
        {
          "output_type": "stream",
          "text": [
            "ERROR:__main__:Exception on / [POST]\n",
            "Traceback (most recent call last):\n",
            "  File \"/usr/local/lib/python3.7/dist-packages/flask/app.py\", line 2447, in wsgi_app\n",
            "    response = self.full_dispatch_request()\n",
            "  File \"/usr/local/lib/python3.7/dist-packages/flask/app.py\", line 1952, in full_dispatch_request\n",
            "    rv = self.handle_user_exception(e)\n",
            "  File \"/usr/local/lib/python3.7/dist-packages/flask/app.py\", line 1821, in handle_user_exception\n",
            "    reraise(exc_type, exc_value, tb)\n",
            "  File \"/usr/local/lib/python3.7/dist-packages/flask/_compat.py\", line 39, in reraise\n",
            "    raise value\n",
            "  File \"/usr/local/lib/python3.7/dist-packages/flask/app.py\", line 1950, in full_dispatch_request\n",
            "    rv = self.dispatch_request()\n",
            "  File \"/usr/local/lib/python3.7/dist-packages/flask/app.py\", line 1936, in dispatch_request\n",
            "    return self.view_functions[rule.endpoint](**req.view_args)\n",
            "  File \"<ipython-input-72-4c80c2af7b92>\", line 41, in home\n",
            "    res[\"text\"]=get_youtube_transcription(res[\"link\"])\n",
            "  File \"<ipython-input-48-fd4772034d04>\", line 3, in get_youtube_transcription\n",
            "    transcript = YouTubeTranscriptApi.get_transcript(url)\n",
            "  File \"/usr/local/lib/python3.7/dist-packages/youtube_transcript_api/_api.py\", line 128, in get_transcript\n",
            "    return cls.list_transcripts(video_id, proxies, cookies).find_transcript(languages).fetch()\n",
            "  File \"/usr/local/lib/python3.7/dist-packages/youtube_transcript_api/_api.py\", line 70, in list_transcripts\n",
            "    return TranscriptListFetcher(http_client).fetch(video_id)\n",
            "  File \"/usr/local/lib/python3.7/dist-packages/youtube_transcript_api/_transcripts.py\", line 35, in fetch\n",
            "    self._extract_captions_json(self._fetch_html(video_id), video_id)\n",
            "  File \"/usr/local/lib/python3.7/dist-packages/youtube_transcript_api/_transcripts.py\", line 47, in _extract_captions_json\n",
            "    raise TranscriptsDisabled(video_id)\n",
            "youtube_transcript_api._errors.TranscriptsDisabled: \n",
            "Could not retrieve a transcript for the video https://www.youtube.com/watch?v=TB7qzDgX-pI! This is most likely caused by:\n",
            "\n",
            "Subtitles are disabled for this video\n",
            "\n",
            "If you are sure that the described cause is not responsible for this error and that a transcript should be retrievable, please create an issue at https://github.com/jdepoix/youtube-transcript-api/issues. Please add which version of youtube_transcript_api you are using and provide the information needed to replicate the error. Also make sure that there are no open issues which already describe your problem!\n",
            "INFO:werkzeug:127.0.0.1 - - [25/Mar/2021 18:19:25] \"\u001b[35m\u001b[1mPOST / HTTP/1.1\u001b[0m\" 500 -\n"
          ],
          "name": "stderr"
        },
        {
          "output_type": "stream",
          "text": [
            "https://www.youtube.com/watch?v=p4pPawXDh0U\n"
          ],
          "name": "stdout"
        },
        {
          "output_type": "stream",
          "text": [
            "ERROR:__main__:Exception on / [POST]\n",
            "Traceback (most recent call last):\n",
            "  File \"/usr/local/lib/python3.7/dist-packages/flask/app.py\", line 2447, in wsgi_app\n",
            "    response = self.full_dispatch_request()\n",
            "  File \"/usr/local/lib/python3.7/dist-packages/flask/app.py\", line 1952, in full_dispatch_request\n",
            "    rv = self.handle_user_exception(e)\n",
            "  File \"/usr/local/lib/python3.7/dist-packages/flask/app.py\", line 1821, in handle_user_exception\n",
            "    reraise(exc_type, exc_value, tb)\n",
            "  File \"/usr/local/lib/python3.7/dist-packages/flask/_compat.py\", line 39, in reraise\n",
            "    raise value\n",
            "  File \"/usr/local/lib/python3.7/dist-packages/flask/app.py\", line 1950, in full_dispatch_request\n",
            "    rv = self.dispatch_request()\n",
            "  File \"/usr/local/lib/python3.7/dist-packages/flask/app.py\", line 1936, in dispatch_request\n",
            "    return self.view_functions[rule.endpoint](**req.view_args)\n",
            "  File \"<ipython-input-72-4c80c2af7b92>\", line 41, in home\n",
            "    res[\"text\"]=get_youtube_transcription(res[\"link\"])\n",
            "  File \"<ipython-input-48-fd4772034d04>\", line 3, in get_youtube_transcription\n",
            "    transcript = YouTubeTranscriptApi.get_transcript(url)\n",
            "  File \"/usr/local/lib/python3.7/dist-packages/youtube_transcript_api/_api.py\", line 128, in get_transcript\n",
            "    return cls.list_transcripts(video_id, proxies, cookies).find_transcript(languages).fetch()\n",
            "  File \"/usr/local/lib/python3.7/dist-packages/youtube_transcript_api/_api.py\", line 70, in list_transcripts\n",
            "    return TranscriptListFetcher(http_client).fetch(video_id)\n",
            "  File \"/usr/local/lib/python3.7/dist-packages/youtube_transcript_api/_transcripts.py\", line 35, in fetch\n",
            "    self._extract_captions_json(self._fetch_html(video_id), video_id)\n",
            "  File \"/usr/local/lib/python3.7/dist-packages/youtube_transcript_api/_transcripts.py\", line 47, in _extract_captions_json\n",
            "    raise TranscriptsDisabled(video_id)\n",
            "youtube_transcript_api._errors.TranscriptsDisabled: \n",
            "Could not retrieve a transcript for the video https://www.youtube.com/watch?v=p4pPawXDh0U! This is most likely caused by:\n",
            "\n",
            "Subtitles are disabled for this video\n",
            "\n",
            "If you are sure that the described cause is not responsible for this error and that a transcript should be retrievable, please create an issue at https://github.com/jdepoix/youtube-transcript-api/issues. Please add which version of youtube_transcript_api you are using and provide the information needed to replicate the error. Also make sure that there are no open issues which already describe your problem!\n",
            "INFO:werkzeug:127.0.0.1 - - [25/Mar/2021 18:19:56] \"\u001b[35m\u001b[1mPOST / HTTP/1.1\u001b[0m\" 500 -\n"
          ],
          "name": "stderr"
        },
        {
          "output_type": "stream",
          "text": [
            "https://www.youtube.com/watch?v=OTfp2_SwxHk\n",
            "[Music]\n",
            "i'm finally here\n",
            "interviewing for my dream job after all\n",
            "the training i've done i can't let this\n",
            "opportunity slip\n",
            "ever since i was in high school i knew i\n",
            "wanted to be a software engineer\n",
            "oh it works\n",
            "this is so fun if i keep this up\n",
            "i'll be a staff engineer at google in no\n",
            "time\n",
            "and so i studied non-stop in college\n",
            "with my eyes set to becoming the next\n",
            "jeff dean\n",
            "i knew it wouldn't be easy and i would\n",
            "have to get through many obstacles\n",
            "[Music]\n",
            "i worked day and night persevered\n",
            "through hardships\n",
            "with one goal in mind\n",
            "uh hello hello can you hear me\n",
            "is this still a good time sir oh no\n",
            "worries\n",
            "i might have been muted or something all\n",
            "right let's get started just a little\n",
            "intro my name is nikhil i work on the\n",
            "cloud team i've been with the company\n",
            "around three years\n",
            "um can you tell me a little about\n",
            "yourself and why you want to work for\n",
            "this company\n",
            "yeah because the only time i feel free\n",
            "in my life\n",
            "is when i code i may not be the smartest\n",
            "person\n",
            "and my whole life people have told me no\n",
            "but coding was the only thing that\n",
            "accepted me\n",
            "it welcomes anyone with open arms\n",
            "no matter who you are or where you're\n",
            "from\n",
            "all you need is a notepad and the world\n",
            "becomes your canvas\n",
            "and just like how coding shined the\n",
            "light in my darkest days\n",
            "and allowed me to be more open to the\n",
            "world\n",
            "i want to work here to help make the\n",
            "world become more open\n",
            "and connected\n",
            "[Music]\n",
            "yeah okay sure um\n",
            "let's move on to the coding question\n",
            "shouldn't take too long and then we'll\n",
            "have some time after so you can ask me\n",
            "some questions\n",
            "so the question is given a binary tree\n",
            "can you print the values out\n",
            "in an in order fashion in order\n",
            "binary tree\n",
            "my favorite binary trees a data\n",
            "structure where each node has two\n",
            "hello sorry i think you cut off again\n",
            "i'm sorry um yeah i'm here\n",
            "okay so um yeah so for that question i\n",
            "will perform\n",
            "a simple recursive algorithm to go\n",
            "through the tree in an in-order fashion\n",
            "and print every note i visit\n",
            "all right excellent looks good now the\n",
            "next part of the question\n",
            "i want you to not use recursion for the\n",
            "same question\n",
            "can you do it iteratively\n",
            "iterative\n",
            "[Music]\n",
            "masaka how is that even possible\n",
            "wait relax think\n",
            "uh i ran out of flashbacks\n",
            "no i can't even pass this phone\n",
            "interview\n",
            "wait i got it i'll use\n",
            "silent keyboard\n",
            "with my left hand i can start typing\n",
            "nonsense on the shared code pad\n",
            "as comments while my right hand will\n",
            "silently google the answers on my ipad\n",
            "and since there's no physical keyboard\n",
            "it makes absolutely no\n",
            "sound\n",
            "[Applause]\n",
            "i've won\n",
            "good that looks good and what is the\n",
            "time and space complexity of this\n",
            "well if n is the number of nodes in the\n",
            "tree then the time complexity is\n",
            "o of n and the space complexity is o of\n",
            "h\n",
            "where h is the height of the tree and in\n",
            "worst case scenario\n",
            "in an unbalanced tree the height of the\n",
            "tree is n\n",
            "so of n would be the worst case\n",
            "all right that's great um i don't think\n",
            "i have any more questions for you do you\n",
            "have any questions for me\n",
            "yeah so um how do you become\n",
            "a staff engineer\n",
            "thanks for watching i hope you enjoyed\n",
            "that sorry i haven't posted in a while\n",
            "it's because i've been working on drama\n",
            "class which is a subscription service to\n",
            "get high\n",
            "quality educational videos made by me on\n",
            "data science and computer science and\n",
            "there's new videos every week\n",
            "i think i made like 60 plus videos now\n",
            "i think that number keeps increasing\n",
            "every week i also regularly chat\n",
            "and mentor all the members who are in\n",
            "the drama class community\n",
            "i know a lot of people get lost in their\n",
            "education you know\n",
            "whether it's data science or software\n",
            "engineering so which is why i created\n",
            "all these classes\n",
            "so that i could teach them the right way\n",
            "the first class i just launched is\n",
            "programming fundamentals with python i'm\n",
            "very proud of it there's lots of good\n",
            "content there\n",
            "lots of good projects in that course and\n",
            "it's the way i learned how to program\n",
            "at first lastly to say thank you to all\n",
            "of you people who are still watching me\n",
            "after i took a long ass break\n",
            "i'm going to give 15 off for the first\n",
            "100 people to use the promo code\n",
            "animate 2. and yeah i really hope you\n",
            "like the course i really hope you enjoy\n",
            "it because i put a lot of effort into it\n",
            "and yeah if you have any questions email\n",
            "me any feedback\n",
            "please email me i would love to hear it\n",
            "and that's pretty much it\n",
            "alright i love you\n",
            "1234rr\n",
            "[Music], I'm finally here interviewing for my dream job. After all the training I've done, I can't let this opportunity slip ever since I was in high school. I knew I wanted to be a software engineer. Oh it works. This is so fun if I keep this up I'll, be a staff engineer at google in no time, and so I studied non-stop in college with my eyes set to becoming the next jeff dean. I knew it wouldn't be easy and I would have to get through many obstacles. [Music]. I worked day and night persevered through hardships with one goal in mind: uh, hello, hello! Can you hear me? Is this still a good time? Sir? Oh no worries I might have been muted or something all right. Let's get started just a little intro. My name is nikhil. I work on the cloud team. I've been with the company around three years. Um. Can you tell me a little about yourself and why you want to work for this company yeah, because the only time I feel free in my life is when I code, I may not be the smartest person and my whole life people have told me no, but coding was the only thing that accepted me. It welcomes anyone with open arms, no matter who you are or where you're from all you need is a notepad and the world becomes your canvas and just like how coding shined the light in my darkest days and allowed me to be more open to the world. I want to work here to help make the world become more open and connected [Music], yeah, okay, sure um. Let's move on to the coding question shouldn't take too long and then we'll have some time after so you can ask me some questions, so the question is given a binary tree: can you print the values out in an in order fashion in order binary tree, my favorite binary trees, a data structure where each node has two hello? Sorry, I think you cut off again. I'm sorry um yeah, I'm here, okay, so um yeah. So for that question I will perform a simple recursive algorithm to go through the tree in an in-order fashion and print. Every note I visit all right. Excellent, looks good now. The next part of the question. I want you to not use recursion for the same question. Can you do it iteratively iterative, [Music] masaka? How is that even possible? Wait, relax. Think uh? I ran out of flashbacks. No, I can't even pass this phone interview. Wait. I got it I'll use silent keyboard with my left hand, I can start typing nonsense on the shared code pad as comments, while my right hand will silently google the answers on my ipad and since there's no physical keyboard, it makes absolutely no sound [Applause]. I've won good. That looks good and what is the time and space complexity of this? Well, if n is the number of nodes in the tree, then the time complexity is o of n and the space complexity is o of h. Where h is the height of the tree and in worst case scenario in an unbalanced tree, the height of the tree is n, so of n would be the worst case. All right, that's great um. I don't think I have any more questions for you. Do you have any questions for me, yeah, so um? How do you become a staff engineer thanks for watching? I hope you enjoyed that sorry. I haven't posted in a while. It's because I've been working on drama class, which is a subscription service to get high quality educational videos made by me on data science and computer science and there's new videos every week. I think I made like 60 plus videos. Now I think that number keeps increasing every week. I also regularly chat and mentor all the members who are in the drama class community. I know a lot of people get lost in their education. You know whether it's data science or software engineering, so, which is why I created all these classes, so that I could teach them the right way. The first class I just launched is programming fundamentals with python, I'm very proud of it. There's lots of good content there lots of good projects in that course, and it's the way I learned how to program at first. Lastly, to say: thank you to all of you, people who are still watching me after I took a long ass break, I'm going to give 15 off for the first 100 people to use the promo code, animate, 2. and yeah. I really hope you like the course. I really hope you enjoy it, because I put a lot of effort into it and yeah. If you have any questions, email me any feedback, please email me, I would love to hear it and that's pretty much it alright. I love you.\n",
            "7890rr\n",
            "[Music], I'm finally here interviewing for my dream job. It welcomes anyone with open arms, no matter who you are or where you're from all you need is a notepad and the world becomes your canvas and just like how coding shined the light in my darkest days and allowed me to be more open to the world. I'm sorry um yeah, I'm here, okay, so um yeah. I want you to not use recursion for the same question. No, I can't even pass this phone interview. I got it I'll use silent keyboard with my left hand, I can start typing nonsense on the shared code pad as comments, while my right hand will silently google the answers on my ipad and since there's no physical keyboard, it makes absolutely no sound [Applause]. You know whether it's data science or software engineering, so, which is why I created all these classes, so that I could teach them the right way.\n",
            "[('dream job', 0.3021), ('new videos', 0.288), ('software engineer', 0.2275), ('drama class', 0.2233), ('in college', 0.2084)]\n",
            "[('programming fundamentals python', -0.0377), ('favorite binary trees', -0.0301), ('google answers ipad', -0.0062), ('class just launched', -0.1765), ('music finally interviewing', 0.0412)]\n",
            "[('dream job training', 0.4596), ('staff engineer google', 0.4498), ('science new videos', 0.4183), ('favorite binary trees', 0.2926), ('members drama class', 0.3319)]\n",
            "https://www.youtube.com/watch?v=OTfp2_SwxHk\n",
            "https://www.youtube.com/embed/OTfp2_SwxHk\n"
          ],
          "name": "stdout"
        },
        {
          "output_type": "stream",
          "text": [
            "INFO:werkzeug:127.0.0.1 - - [25/Mar/2021 18:21:32] \"\u001b[37mPOST / HTTP/1.1\u001b[0m\" 200 -\n"
          ],
          "name": "stderr"
        },
        {
          "output_type": "stream",
          "text": [
            "{'dream job': ['3'], 'software engineer': ['13'], 'in college': ['28'], 'new videos': ['297'], 'drama class': ['308']}\n",
            "[['dream job', '3'], ['software engineer', '13'], ['in college', '28'], ['new videos', '297'], ['drama class', '308']]\n",
            "cmgdddddddddddddd\n",
            "If Programming Was An Anime Part 2\n"
          ],
          "name": "stdout"
        },
        {
          "output_type": "stream",
          "text": [
            "INFO:werkzeug:127.0.0.1 - - [25/Mar/2021 18:21:33] \"\u001b[33mGET /css/template.css HTTP/1.1\u001b[0m\" 404 -\n"
          ],
          "name": "stderr"
        }
      ]
    }
  ]
}